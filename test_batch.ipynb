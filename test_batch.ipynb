{
 "cells": [
  {
   "cell_type": "markdown",
   "metadata": {},
   "source": [
    "# Batch Optimization Examples\n",
    "\n",
    "This notebook shows how to run multiple metric/optimizer jobs in a batch using `py_scripts/optimization_workflow.py`.\n",
    "It also saves audio and plots with a consistent naming scheme matching `save_wav(add_info=True, add_time=True)`."
   ]
  },
  {
   "cell_type": "code",
   "execution_count": 1,
   "id": "4b7a4645",
   "metadata": {},
   "outputs": [
    {
     "data": {
      "text/html": [
       "<div>\n",
       "<style scoped>\n",
       "    .dataframe tbody tr th:only-of-type {\n",
       "        vertical-align: middle;\n",
       "    }\n",
       "\n",
       "    .dataframe tbody tr th {\n",
       "        vertical-align: top;\n",
       "    }\n",
       "\n",
       "    .dataframe thead th {\n",
       "        text-align: right;\n",
       "    }\n",
       "</style>\n",
       "<table border=\"1\" class=\"dataframe\">\n",
       "  <thead>\n",
       "    <tr style=\"text-align: right;\">\n",
       "      <th></th>\n",
       "      <th>Frequency (Hz)</th>\n",
       "      <th>Amplitude</th>\n",
       "    </tr>\n",
       "  </thead>\n",
       "  <tbody>\n",
       "    <tr>\n",
       "      <th>0</th>\n",
       "      <td>73.684211</td>\n",
       "      <td>0.005356</td>\n",
       "    </tr>\n",
       "    <tr>\n",
       "      <th>1</th>\n",
       "      <td>136.842105</td>\n",
       "      <td>0.004395</td>\n",
       "    </tr>\n",
       "    <tr>\n",
       "      <th>2</th>\n",
       "      <td>147.368421</td>\n",
       "      <td>0.102953</td>\n",
       "    </tr>\n",
       "    <tr>\n",
       "      <th>3</th>\n",
       "      <td>223.684211</td>\n",
       "      <td>0.011307</td>\n",
       "    </tr>\n",
       "    <tr>\n",
       "      <th>4</th>\n",
       "      <td>297.368421</td>\n",
       "      <td>0.035448</td>\n",
       "    </tr>\n",
       "    <tr>\n",
       "      <th>5</th>\n",
       "      <td>371.052632</td>\n",
       "      <td>0.005977</td>\n",
       "    </tr>\n",
       "    <tr>\n",
       "      <th>6</th>\n",
       "      <td>442.105263</td>\n",
       "      <td>0.002880</td>\n",
       "    </tr>\n",
       "    <tr>\n",
       "      <th>7</th>\n",
       "      <td>447.368421</td>\n",
       "      <td>0.006474</td>\n",
       "    </tr>\n",
       "    <tr>\n",
       "      <th>8</th>\n",
       "      <td>521.052632</td>\n",
       "      <td>0.011020</td>\n",
       "    </tr>\n",
       "    <tr>\n",
       "      <th>9</th>\n",
       "      <td>594.736842</td>\n",
       "      <td>0.002818</td>\n",
       "    </tr>\n",
       "    <tr>\n",
       "      <th>10</th>\n",
       "      <td>818.421053</td>\n",
       "      <td>0.002759</td>\n",
       "    </tr>\n",
       "    <tr>\n",
       "      <th>11</th>\n",
       "      <td>894.736842</td>\n",
       "      <td>0.002141</td>\n",
       "    </tr>\n",
       "    <tr>\n",
       "      <th>12</th>\n",
       "      <td>965.789474</td>\n",
       "      <td>0.002436</td>\n",
       "    </tr>\n",
       "    <tr>\n",
       "      <th>13</th>\n",
       "      <td>1263.157895</td>\n",
       "      <td>0.002615</td>\n",
       "    </tr>\n",
       "  </tbody>\n",
       "</table>\n",
       "</div>"
      ],
      "text/plain": [
       "    Frequency (Hz)  Amplitude\n",
       "0        73.684211   0.005356\n",
       "1       136.842105   0.004395\n",
       "2       147.368421   0.102953\n",
       "3       223.684211   0.011307\n",
       "4       297.368421   0.035448\n",
       "5       371.052632   0.005977\n",
       "6       442.105263   0.002880\n",
       "7       447.368421   0.006474\n",
       "8       521.052632   0.011020\n",
       "9       594.736842   0.002818\n",
       "10      818.421053   0.002759\n",
       "11      894.736842   0.002141\n",
       "12      965.789474   0.002436\n",
       "13     1263.157895   0.002615"
      ]
     },
     "metadata": {},
     "output_type": "display_data"
    }
   ],
   "source": [
    "# Setup and target loading\n",
    "import numpy as np\n",
    "import pandas as pd\n",
    "from IPython.display import display\n",
    "from pathlib import Path\n",
    "\n",
    "# Reuse the same configuration as test.ipynb\n",
    "SR = 44100\n",
    "DURATION = 2.0\n",
    "FFT_PAD = 2\n",
    "FADE_IN_MS = 10.0\n",
    "FADE_OUT_MS = 10.0\n",
    "\n",
    "# Load target partials (example: cello)\n",
    "target_path = 'tsv/cello_single.tsv'\n",
    "df = pd.read_csv(target_path, sep=\"\\t\")\n",
    "display(df)\n",
    "target_freqs = df[\"Frequency (Hz)\"].to_numpy()\n",
    "target_amps = (df[\"Amplitude\"] / df[\"Amplitude\"].max()).to_numpy()\n",
    "# Extract a short name for naming (e.g., 'cello_single')\n",
    "target_name = Path(target_path).stem\n"
   ]
  },
  {
   "cell_type": "markdown",
   "id": "690535f9",
   "metadata": {},
   "source": [
    "## Define batch jobs\n",
    "- `method`: one of `'de'` (Differential Evolution), `'da'` (Dual Annealing), `'bh'` (Basin Hopping).\n",
    "- `metric`: any supported metric: `'pearson'`, `'mfcc'`, `'itakura_saito'`, `'spectral_convergence'`, `'cosine'`, `'euclidean'`, `'manhattan'`, `'kl'`.\n",
    "- `kwargs`: optimizer-specific settings (e.g., `maxiter`, `workers`, `stepsize`)."
   ]
  },
  {
   "cell_type": "code",
   "execution_count": 2,
   "id": "024ebd5b",
   "metadata": {},
   "outputs": [
    {
     "data": {
      "application/vnd.jupyter.widget-view+json": {
       "model_id": "72282edf42a04338a8e579d8838b9355",
       "version_major": 2,
       "version_minor": 0
      },
      "text/plain": [
       "FM 4-osc DE → Pearson:   0%|           0/500 [ETA: ?, Elapsed: 00:00]"
      ]
     },
     "metadata": {},
     "output_type": "display_data"
    },
    {
     "name": "stdout",
     "output_type": "stream",
     "text": [
      "[save_wav] wrote: c:\\Users\\egorp\\Nextcloud\\code\\public_repos\\FFTimbre\\rendered_audio\\optimized_output_fm_cello_single_de_pearson_20250830-125733.wav\n",
      "TSV file was saved at: c:\\Users\\egorp\\Nextcloud\\code\\public_repos\\FFTimbre\\tsv\\final_values_fm_cello_single_de_pearson_20250830-125733.tsv\n"
     ]
    },
    {
     "data": {
      "application/vnd.jupyter.widget-view+json": {
       "model_id": "2f8fb310dc9e45308e84fefa60548431",
       "version_major": 2,
       "version_minor": 0
      },
      "text/plain": [
       "FM 4-osc DA → Pearson:   0%|           0/500 [ETA: ?, Elapsed: 00:00]"
      ]
     },
     "metadata": {},
     "output_type": "display_data"
    },
    {
     "name": "stdout",
     "output_type": "stream",
     "text": [
      "[save_wav] wrote: c:\\Users\\egorp\\Nextcloud\\code\\public_repos\\FFTimbre\\rendered_audio\\optimized_output_fm_cello_single_da_pearson_20250830-125814.wav\n",
      "TSV file was saved at: c:\\Users\\egorp\\Nextcloud\\code\\public_repos\\FFTimbre\\tsv\\final_values_fm_cello_single_da_pearson_20250830-125814.tsv\n"
     ]
    },
    {
     "data": {
      "application/vnd.jupyter.widget-view+json": {
       "model_id": "c483965221794bdc95e590d71ae4b949",
       "version_major": 2,
       "version_minor": 0
      },
      "text/plain": [
       "FM 4-osc BH → Pearson:   0%|           0/500 [ETA: ?, Elapsed: 00:00]"
      ]
     },
     "metadata": {},
     "output_type": "display_data"
    },
    {
     "name": "stdout",
     "output_type": "stream",
     "text": [
      "[save_wav] wrote: c:\\Users\\egorp\\Nextcloud\\code\\public_repos\\FFTimbre\\rendered_audio\\optimized_output_fm_cello_single_bh_pearson_20250830-125918.wav\n",
      "TSV file was saved at: c:\\Users\\egorp\\Nextcloud\\code\\public_repos\\FFTimbre\\tsv\\final_values_fm_cello_single_bh_pearson_20250830-125918.tsv\n"
     ]
    },
    {
     "data": {
      "text/html": [
       "<div>\n",
       "<style scoped>\n",
       "    .dataframe tbody tr th:only-of-type {\n",
       "        vertical-align: middle;\n",
       "    }\n",
       "\n",
       "    .dataframe tbody tr th {\n",
       "        vertical-align: top;\n",
       "    }\n",
       "\n",
       "    .dataframe thead th {\n",
       "        text-align: right;\n",
       "    }\n",
       "</style>\n",
       "<table border=\"1\" class=\"dataframe\">\n",
       "  <thead>\n",
       "    <tr style=\"text-align: right;\">\n",
       "      <th></th>\n",
       "      <th>method</th>\n",
       "      <th>metric</th>\n",
       "      <th>best</th>\n",
       "      <th>wav_path</th>\n",
       "      <th>tsv_path</th>\n",
       "      <th>plots</th>\n",
       "    </tr>\n",
       "  </thead>\n",
       "  <tbody>\n",
       "    <tr>\n",
       "      <th>0</th>\n",
       "      <td>de</td>\n",
       "      <td>pearson</td>\n",
       "      <td>0.116531</td>\n",
       "      <td>rendered_audio\\optimized_output_fm_cello_singl...</td>\n",
       "      <td>tsv/final_values_fm_cello_single_de_pearson_20...</td>\n",
       "      <td>{'time': 'rendered_plots\\optimized_output_fm_c...</td>\n",
       "    </tr>\n",
       "    <tr>\n",
       "      <th>1</th>\n",
       "      <td>da</td>\n",
       "      <td>pearson</td>\n",
       "      <td>0.182808</td>\n",
       "      <td>rendered_audio\\optimized_output_fm_cello_singl...</td>\n",
       "      <td>tsv/final_values_fm_cello_single_da_pearson_20...</td>\n",
       "      <td>{'time': 'rendered_plots\\optimized_output_fm_c...</td>\n",
       "    </tr>\n",
       "    <tr>\n",
       "      <th>2</th>\n",
       "      <td>bh</td>\n",
       "      <td>pearson</td>\n",
       "      <td>0.978920</td>\n",
       "      <td>rendered_audio\\optimized_output_fm_cello_singl...</td>\n",
       "      <td>tsv/final_values_fm_cello_single_bh_pearson_20...</td>\n",
       "      <td>{'time': 'rendered_plots\\optimized_output_fm_c...</td>\n",
       "    </tr>\n",
       "  </tbody>\n",
       "</table>\n",
       "</div>"
      ],
      "text/plain": [
       "  method   metric      best  \\\n",
       "0     de  pearson  0.116531   \n",
       "1     da  pearson  0.182808   \n",
       "2     bh  pearson  0.978920   \n",
       "\n",
       "                                            wav_path  \\\n",
       "0  rendered_audio\\optimized_output_fm_cello_singl...   \n",
       "1  rendered_audio\\optimized_output_fm_cello_singl...   \n",
       "2  rendered_audio\\optimized_output_fm_cello_singl...   \n",
       "\n",
       "                                            tsv_path  \\\n",
       "0  tsv/final_values_fm_cello_single_de_pearson_20...   \n",
       "1  tsv/final_values_fm_cello_single_da_pearson_20...   \n",
       "2  tsv/final_values_fm_cello_single_bh_pearson_20...   \n",
       "\n",
       "                                               plots  \n",
       "0  {'time': 'rendered_plots\\optimized_output_fm_c...  \n",
       "1  {'time': 'rendered_plots\\optimized_output_fm_c...  \n",
       "2  {'time': 'rendered_plots\\optimized_output_fm_c...  "
      ]
     },
     "metadata": {},
     "output_type": "display_data"
    }
   ],
   "source": [
    "from py_scripts.optimization_workflow import run_batch_jobs, BatchJob\n",
    "\n",
    "jobs = [\n",
    "    BatchJob(method='de', metric='pearson', kwargs={'maxiter': 500, 'workers': -1}),\n",
    "    BatchJob(method='da', metric='pearson', kwargs={'maxiter': 500}),\n",
    "    BatchJob(method='bh', metric='pearson', kwargs={'maxiter': 500, 'stepsize': 0.4}),\n",
    "    # Add more combinations as needed, e.g.:\n",
    "    # BatchJob(method='de', metric='mfcc', kwargs={'maxiter': 200, 'workers': -1}),\n",
    "]\n",
    "\n",
    "rows = run_batch_jobs(\n",
    "    target_freqs, target_amps, jobs,\n",
    "    target_name=target_name,\n",
    "    sr=SR, duration=DURATION, fft_pad=FFT_PAD,\n",
    "    fade_in_ms=FADE_IN_MS, fade_out_ms=FADE_OUT_MS,\n",
    "    seed=42,\n",
    ")\n",
    "\n",
    "# Summarize batch results (params/history omitted for brevity)\n",
    "summary = pd.DataFrame([{k: v for k, v in r.items() if k not in ('params','history') } for r in rows])\n",
    "display(summary.sort_values('best'))\n"
   ]
  },
  {
   "cell_type": "markdown",
   "id": "704e1d86",
   "metadata": {},
   "source": [
    "## Outputs and naming schema\n",
    "Each job saves: \n",
    "- Audio (`.wav`) to `rendered_audio/optimized_output_fm_<target>_<method>_<metric>_<YYYYMMDD-HHMMSS>.wav`\n",
    "- Plots (`.png`) to `rendered_plots/optimized_output_fm_<target>_<method>_<metric>_<YYYYMMDD-HHMMSS>_<type>.png`\n",
    "  - `<type>` ∈ `time`, `spectrum`, `error`\n",
    "- Final oscillator values to `tsv/final_values_fm_<target>_<method>_<metric>_<YYYYMMDD-HHMMSS>.tsv`\n",
    "\n",
    "The naming follows the same `_method_metric_timestamp` pattern used by `save_wav(add_info=True, add_time=True)` for consistency across assets.\n",
    "\n",
    "## Parallel processing note\n",
    "- `workers` (parallel execution) is supported by Differential Evolution (`method='de'`).\n",
    "- Dual Annealing (`'da'`) and Basin Hopping (`'bh'`) do not accept `workers`. Any unsupported kwargs are safely ignored by the batch runner."
   ]
  }
 ],
 "metadata": {
  "kernelspec": {
   "display_name": "py3124t",
   "language": "python",
   "name": "python3"
  },
  "language_info": {
   "codemirror_mode": {
    "name": "ipython",
    "version": 3
   },
   "file_extension": ".py",
   "mimetype": "text/x-python",
   "name": "python",
   "nbconvert_exporter": "python",
   "pygments_lexer": "ipython3",
   "version": "3.12.4"
  }
 },
 "nbformat": 4,
 "nbformat_minor": 5
}
