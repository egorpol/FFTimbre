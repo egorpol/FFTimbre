{
 "cells": [
  {
   "cell_type": "markdown",
   "metadata": {},
   "source": [
    "# Batch Optimization Examples\n",
    "\n",
    "This notebook shows how to run multiple metric/optimizer jobs in a batch using `py_scripts/optimization_workflow.py`.\n",
    "It also saves audio and plots with a consistent naming scheme matching `save_wav(add_info=True, add_time=True)`."
   ]
  },
  {
   "cell_type": "code",
   "execution_count": 1,
   "id": "4b7a4645",
   "metadata": {},
   "outputs": [
    {
     "data": {
      "text/html": [
       "<div>\n",
       "<style scoped>\n",
       "    .dataframe tbody tr th:only-of-type {\n",
       "        vertical-align: middle;\n",
       "    }\n",
       "\n",
       "    .dataframe tbody tr th {\n",
       "        vertical-align: top;\n",
       "    }\n",
       "\n",
       "    .dataframe thead th {\n",
       "        text-align: right;\n",
       "    }\n",
       "</style>\n",
       "<table border=\"1\" class=\"dataframe\">\n",
       "  <thead>\n",
       "    <tr style=\"text-align: right;\">\n",
       "      <th></th>\n",
       "      <th>Frequency (Hz)</th>\n",
       "      <th>Amplitude</th>\n",
       "    </tr>\n",
       "  </thead>\n",
       "  <tbody>\n",
       "    <tr>\n",
       "      <th>0</th>\n",
       "      <td>73.684211</td>\n",
       "      <td>0.005356</td>\n",
       "    </tr>\n",
       "    <tr>\n",
       "      <th>1</th>\n",
       "      <td>136.842105</td>\n",
       "      <td>0.004395</td>\n",
       "    </tr>\n",
       "    <tr>\n",
       "      <th>2</th>\n",
       "      <td>147.368421</td>\n",
       "      <td>0.102953</td>\n",
       "    </tr>\n",
       "    <tr>\n",
       "      <th>3</th>\n",
       "      <td>223.684211</td>\n",
       "      <td>0.011307</td>\n",
       "    </tr>\n",
       "    <tr>\n",
       "      <th>4</th>\n",
       "      <td>297.368421</td>\n",
       "      <td>0.035448</td>\n",
       "    </tr>\n",
       "    <tr>\n",
       "      <th>5</th>\n",
       "      <td>371.052632</td>\n",
       "      <td>0.005977</td>\n",
       "    </tr>\n",
       "    <tr>\n",
       "      <th>6</th>\n",
       "      <td>442.105263</td>\n",
       "      <td>0.002880</td>\n",
       "    </tr>\n",
       "    <tr>\n",
       "      <th>7</th>\n",
       "      <td>447.368421</td>\n",
       "      <td>0.006474</td>\n",
       "    </tr>\n",
       "    <tr>\n",
       "      <th>8</th>\n",
       "      <td>521.052632</td>\n",
       "      <td>0.011020</td>\n",
       "    </tr>\n",
       "    <tr>\n",
       "      <th>9</th>\n",
       "      <td>594.736842</td>\n",
       "      <td>0.002818</td>\n",
       "    </tr>\n",
       "    <tr>\n",
       "      <th>10</th>\n",
       "      <td>818.421053</td>\n",
       "      <td>0.002759</td>\n",
       "    </tr>\n",
       "    <tr>\n",
       "      <th>11</th>\n",
       "      <td>894.736842</td>\n",
       "      <td>0.002141</td>\n",
       "    </tr>\n",
       "    <tr>\n",
       "      <th>12</th>\n",
       "      <td>965.789474</td>\n",
       "      <td>0.002436</td>\n",
       "    </tr>\n",
       "    <tr>\n",
       "      <th>13</th>\n",
       "      <td>1263.157895</td>\n",
       "      <td>0.002615</td>\n",
       "    </tr>\n",
       "  </tbody>\n",
       "</table>\n",
       "</div>"
      ],
      "text/plain": [
       "    Frequency (Hz)  Amplitude\n",
       "0        73.684211   0.005356\n",
       "1       136.842105   0.004395\n",
       "2       147.368421   0.102953\n",
       "3       223.684211   0.011307\n",
       "4       297.368421   0.035448\n",
       "5       371.052632   0.005977\n",
       "6       442.105263   0.002880\n",
       "7       447.368421   0.006474\n",
       "8       521.052632   0.011020\n",
       "9       594.736842   0.002818\n",
       "10      818.421053   0.002759\n",
       "11      894.736842   0.002141\n",
       "12      965.789474   0.002436\n",
       "13     1263.157895   0.002615"
      ]
     },
     "metadata": {},
     "output_type": "display_data"
    }
   ],
   "source": [
    "# Setup and target loading\n",
    "import numpy as np\n",
    "import pandas as pd\n",
    "from IPython.display import display\n",
    "from pathlib import Path\n",
    "\n",
    "# Reuse the same configuration as test.ipynb\n",
    "SR = 44100\n",
    "DURATION = 2.0\n",
    "FFT_PAD = 2\n",
    "FADE_IN_MS = 10.0\n",
    "FADE_OUT_MS = 10.0\n",
    "\n",
    "# Load target partials (example: cello)\n",
    "target_path = 'tsv/cello_single.tsv'\n",
    "df = pd.read_csv(target_path, sep=\"\\t\")\n",
    "display(df)\n",
    "target_freqs = df[\"Frequency (Hz)\"].to_numpy()\n",
    "target_amps = (df[\"Amplitude\"] / df[\"Amplitude\"].max()).to_numpy()\n",
    "# Extract a short name for naming (e.g., 'cello_single')\n",
    "target_name = Path(target_path).stem\n"
   ]
  },
  {
   "cell_type": "markdown",
   "id": "690535f9",
   "metadata": {},
   "source": [
    "## Define batch jobs\n",
    "- `method`: one of `'de'` (Differential Evolution), `'da'` (Dual Annealing), `'bh'` (Basin Hopping).\n",
    "- `metric`: any supported metric: `'pearson'`, `'mfcc'`, `'itakura_saito'`, `'spectral_convergence'`, `'cosine'`, `'euclidean'`, `'manhattan'`, `'kl'`.\n",
    "- `kwargs`: optimizer-specific settings (e.g., `maxiter`, `workers`, `stepsize`)."
   ]
  },
  {
   "cell_type": "code",
   "execution_count": 2,
   "id": "024ebd5b",
   "metadata": {},
   "outputs": [
    {
     "data": {
      "application/vnd.jupyter.widget-view+json": {
       "model_id": "289cf854f81a4e72aa5bcec807f2e6ec",
       "version_major": 2,
       "version_minor": 0
      },
      "text/plain": [
       "FM 4-osc DE → Pearson:   0%|           0/500 [ETA: ?, Elapsed: 00:00]"
      ]
     },
     "metadata": {},
     "output_type": "display_data"
    },
    {
     "name": "stdout",
     "output_type": "stream",
     "text": [
      "[save_wav] wrote: c:\\Users\\egorp\\Nextcloud\\code\\public_repos\\FFTimbre\\rendered_audio\\optimized_output_fm_cello_single_de_pearson_20250904-002050.wav\n",
      "TSV file was saved at: c:\\Users\\egorp\\Nextcloud\\code\\public_repos\\FFTimbre\\tsv\\final_values_fm_cello_single_de_pearson_20250904-002050.tsv\n"
     ]
    },
    {
     "data": {
      "application/vnd.jupyter.widget-view+json": {
       "model_id": "93b574903bd7447e8ca808907ef2cd64",
       "version_major": 2,
       "version_minor": 0
      },
      "text/plain": [
       "FM 4-osc DA → Pearson:   0%|           0/500 [ETA: ?, Elapsed: 00:00]"
      ]
     },
     "metadata": {},
     "output_type": "display_data"
    },
    {
     "name": "stdout",
     "output_type": "stream",
     "text": [
      "[save_wav] wrote: c:\\Users\\egorp\\Nextcloud\\code\\public_repos\\FFTimbre\\rendered_audio\\optimized_output_fm_cello_single_da_pearson_20250904-002136.wav\n",
      "TSV file was saved at: c:\\Users\\egorp\\Nextcloud\\code\\public_repos\\FFTimbre\\tsv\\final_values_fm_cello_single_da_pearson_20250904-002136.tsv\n"
     ]
    },
    {
     "data": {
      "application/vnd.jupyter.widget-view+json": {
       "model_id": "8812480cc2994f0e882c7abbcc315a64",
       "version_major": 2,
       "version_minor": 0
      },
      "text/plain": [
       "FM 4-osc BH → Pearson:   0%|           0/500 [ETA: ?, Elapsed: 00:00]"
      ]
     },
     "metadata": {},
     "output_type": "display_data"
    },
    {
     "name": "stdout",
     "output_type": "stream",
     "text": [
      "[save_wav] wrote: c:\\Users\\egorp\\Nextcloud\\code\\public_repos\\FFTimbre\\rendered_audio\\optimized_output_fm_cello_single_bh_pearson_20250904-002243.wav\n",
      "TSV file was saved at: c:\\Users\\egorp\\Nextcloud\\code\\public_repos\\FFTimbre\\tsv\\final_values_fm_cello_single_bh_pearson_20250904-002243.tsv\n"
     ]
    },
    {
     "data": {
      "application/vnd.jupyter.widget-view+json": {
       "model_id": "f13e0792ddd04e25b1135776e6320d54",
       "version_major": 2,
       "version_minor": 0
      },
      "text/plain": [
       "FM 4-osc DE → Mfcc:   0%|           0/500 [ETA: ?, Elapsed: 00:00]"
      ]
     },
     "metadata": {},
     "output_type": "display_data"
    },
    {
     "name": "stdout",
     "output_type": "stream",
     "text": [
      "[save_wav] wrote: c:\\Users\\egorp\\Nextcloud\\code\\public_repos\\FFTimbre\\rendered_audio\\optimized_output_fm_cello_single_de_mfcc_20250904-002651.wav\n",
      "TSV file was saved at: c:\\Users\\egorp\\Nextcloud\\code\\public_repos\\FFTimbre\\tsv\\final_values_fm_cello_single_de_mfcc_20250904-002651.tsv\n"
     ]
    },
    {
     "data": {
      "application/vnd.jupyter.widget-view+json": {
       "model_id": "2472f33ccd1647e9bdb83fbbfeee560f",
       "version_major": 2,
       "version_minor": 0
      },
      "text/plain": [
       "FM 4-osc DA → Mfcc:   0%|           0/500 [ETA: ?, Elapsed: 00:00]"
      ]
     },
     "metadata": {},
     "output_type": "display_data"
    },
    {
     "name": "stdout",
     "output_type": "stream",
     "text": [
      "[save_wav] wrote: c:\\Users\\egorp\\Nextcloud\\code\\public_repos\\FFTimbre\\rendered_audio\\optimized_output_fm_cello_single_da_mfcc_20250904-002818.wav\n",
      "TSV file was saved at: c:\\Users\\egorp\\Nextcloud\\code\\public_repos\\FFTimbre\\tsv\\final_values_fm_cello_single_da_mfcc_20250904-002818.tsv\n"
     ]
    },
    {
     "data": {
      "application/vnd.jupyter.widget-view+json": {
       "model_id": "d690fd454d384d2c84cbcf51924b7868",
       "version_major": 2,
       "version_minor": 0
      },
      "text/plain": [
       "FM 4-osc BH → Mfcc:   0%|           0/500 [ETA: ?, Elapsed: 00:00]"
      ]
     },
     "metadata": {},
     "output_type": "display_data"
    },
    {
     "name": "stdout",
     "output_type": "stream",
     "text": [
      "[save_wav] wrote: c:\\Users\\egorp\\Nextcloud\\code\\public_repos\\FFTimbre\\rendered_audio\\optimized_output_fm_cello_single_bh_mfcc_20250904-003015.wav\n",
      "TSV file was saved at: c:\\Users\\egorp\\Nextcloud\\code\\public_repos\\FFTimbre\\tsv\\final_values_fm_cello_single_bh_mfcc_20250904-003015.tsv\n"
     ]
    },
    {
     "data": {
      "application/vnd.jupyter.widget-view+json": {
       "model_id": "0649eb229be84878ac3596c516f28c0b",
       "version_major": 2,
       "version_minor": 0
      },
      "text/plain": [
       "FM 4-osc DE → Itakura_Saito:   0%|           0/500 [ETA: ?, Elapsed: 00:00]"
      ]
     },
     "metadata": {},
     "output_type": "display_data"
    },
    {
     "name": "stdout",
     "output_type": "stream",
     "text": [
      "[save_wav] wrote: c:\\Users\\egorp\\Nextcloud\\code\\public_repos\\FFTimbre\\rendered_audio\\optimized_output_fm_cello_single_de_itakura_saito_20250904-003136.wav\n",
      "TSV file was saved at: c:\\Users\\egorp\\Nextcloud\\code\\public_repos\\FFTimbre\\tsv\\final_values_fm_cello_single_de_itakura_saito_20250904-003136.tsv\n"
     ]
    },
    {
     "data": {
      "application/vnd.jupyter.widget-view+json": {
       "model_id": "f6b69b169ae744898a2ab651ef2ec831",
       "version_major": 2,
       "version_minor": 0
      },
      "text/plain": [
       "FM 4-osc DA → Itakura_Saito:   0%|           0/500 [ETA: ?, Elapsed: 00:00]"
      ]
     },
     "metadata": {},
     "output_type": "display_data"
    },
    {
     "name": "stdout",
     "output_type": "stream",
     "text": [
      "[save_wav] wrote: c:\\Users\\egorp\\Nextcloud\\code\\public_repos\\FFTimbre\\rendered_audio\\optimized_output_fm_cello_single_da_itakura_saito_20250904-003210.wav\n",
      "TSV file was saved at: c:\\Users\\egorp\\Nextcloud\\code\\public_repos\\FFTimbre\\tsv\\final_values_fm_cello_single_da_itakura_saito_20250904-003210.tsv\n"
     ]
    },
    {
     "data": {
      "application/vnd.jupyter.widget-view+json": {
       "model_id": "7f5fad90c45844b1bf3dce2f7ef574cc",
       "version_major": 2,
       "version_minor": 0
      },
      "text/plain": [
       "FM 4-osc BH → Itakura_Saito:   0%|           0/500 [ETA: ?, Elapsed: 00:00]"
      ]
     },
     "metadata": {},
     "output_type": "display_data"
    },
    {
     "name": "stdout",
     "output_type": "stream",
     "text": [
      "[save_wav] wrote: c:\\Users\\egorp\\Nextcloud\\code\\public_repos\\FFTimbre\\rendered_audio\\optimized_output_fm_cello_single_bh_itakura_saito_20250904-003244.wav\n",
      "TSV file was saved at: c:\\Users\\egorp\\Nextcloud\\code\\public_repos\\FFTimbre\\tsv\\final_values_fm_cello_single_bh_itakura_saito_20250904-003244.tsv\n"
     ]
    },
    {
     "data": {
      "application/vnd.jupyter.widget-view+json": {
       "model_id": "30549f28d4a949f2a573ac024992e7fc",
       "version_major": 2,
       "version_minor": 0
      },
      "text/plain": [
       "FM 4-osc DE → Spectral_Convergence:   0%|           0/500 [ETA: ?, Elapsed: 00:00]"
      ]
     },
     "metadata": {},
     "output_type": "display_data"
    },
    {
     "name": "stdout",
     "output_type": "stream",
     "text": [
      "[save_wav] wrote: c:\\Users\\egorp\\Nextcloud\\code\\public_repos\\FFTimbre\\rendered_audio\\optimized_output_fm_cello_single_de_spectral_convergence_20250904-003453.wav\n",
      "TSV file was saved at: c:\\Users\\egorp\\Nextcloud\\code\\public_repos\\FFTimbre\\tsv\\final_values_fm_cello_single_de_spectral_convergence_20250904-003453.tsv\n"
     ]
    },
    {
     "data": {
      "application/vnd.jupyter.widget-view+json": {
       "model_id": "c3bcb79fe0ee4161a8b310ef9736ee0d",
       "version_major": 2,
       "version_minor": 0
      },
      "text/plain": [
       "FM 4-osc DA → Spectral_Convergence:   0%|           0/500 [ETA: ?, Elapsed: 00:00]"
      ]
     },
     "metadata": {},
     "output_type": "display_data"
    },
    {
     "name": "stdout",
     "output_type": "stream",
     "text": [
      "[save_wav] wrote: c:\\Users\\egorp\\Nextcloud\\code\\public_repos\\FFTimbre\\rendered_audio\\optimized_output_fm_cello_single_da_spectral_convergence_20250904-003515.wav\n",
      "TSV file was saved at: c:\\Users\\egorp\\Nextcloud\\code\\public_repos\\FFTimbre\\tsv\\final_values_fm_cello_single_da_spectral_convergence_20250904-003515.tsv\n"
     ]
    },
    {
     "data": {
      "application/vnd.jupyter.widget-view+json": {
       "model_id": "6a11959c3a9449f1bd74a194d469a2cd",
       "version_major": 2,
       "version_minor": 0
      },
      "text/plain": [
       "FM 4-osc BH → Spectral_Convergence:   0%|           0/500 [ETA: ?, Elapsed: 00:00]"
      ]
     },
     "metadata": {},
     "output_type": "display_data"
    },
    {
     "name": "stdout",
     "output_type": "stream",
     "text": [
      "[save_wav] wrote: c:\\Users\\egorp\\Nextcloud\\code\\public_repos\\FFTimbre\\rendered_audio\\optimized_output_fm_cello_single_bh_spectral_convergence_20250904-003533.wav\n",
      "TSV file was saved at: c:\\Users\\egorp\\Nextcloud\\code\\public_repos\\FFTimbre\\tsv\\final_values_fm_cello_single_bh_spectral_convergence_20250904-003533.tsv\n"
     ]
    },
    {
     "data": {
      "application/vnd.jupyter.widget-view+json": {
       "model_id": "e44ef440678c4f0eaaf2825f0afe817d",
       "version_major": 2,
       "version_minor": 0
      },
      "text/plain": [
       "FM 4-osc DE → Cosine:   0%|           0/500 [ETA: ?, Elapsed: 00:00]"
      ]
     },
     "metadata": {},
     "output_type": "display_data"
    },
    {
     "name": "stdout",
     "output_type": "stream",
     "text": [
      "[save_wav] wrote: c:\\Users\\egorp\\Nextcloud\\code\\public_repos\\FFTimbre\\rendered_audio\\optimized_output_fm_cello_single_de_cosine_20250904-003735.wav\n",
      "TSV file was saved at: c:\\Users\\egorp\\Nextcloud\\code\\public_repos\\FFTimbre\\tsv\\final_values_fm_cello_single_de_cosine_20250904-003735.tsv\n"
     ]
    },
    {
     "data": {
      "application/vnd.jupyter.widget-view+json": {
       "model_id": "58a38cbc775c4a218f1fb46fd49fd1a8",
       "version_major": 2,
       "version_minor": 0
      },
      "text/plain": [
       "FM 4-osc DA → Cosine:   0%|           0/500 [ETA: ?, Elapsed: 00:00]"
      ]
     },
     "metadata": {},
     "output_type": "display_data"
    },
    {
     "name": "stdout",
     "output_type": "stream",
     "text": [
      "[save_wav] wrote: c:\\Users\\egorp\\Nextcloud\\code\\public_repos\\FFTimbre\\rendered_audio\\optimized_output_fm_cello_single_da_cosine_20250904-003801.wav\n",
      "TSV file was saved at: c:\\Users\\egorp\\Nextcloud\\code\\public_repos\\FFTimbre\\tsv\\final_values_fm_cello_single_da_cosine_20250904-003801.tsv\n"
     ]
    },
    {
     "data": {
      "application/vnd.jupyter.widget-view+json": {
       "model_id": "103292373ee1426a856e9769d0c6cc2c",
       "version_major": 2,
       "version_minor": 0
      },
      "text/plain": [
       "FM 4-osc BH → Cosine:   0%|           0/500 [ETA: ?, Elapsed: 00:00]"
      ]
     },
     "metadata": {},
     "output_type": "display_data"
    },
    {
     "name": "stderr",
     "output_type": "stream",
     "text": [
      "c:\\Users\\egorp\\miniconda3\\envs\\py3124t\\Lib\\site-packages\\scipy\\spatial\\distance.py:647: RuntimeWarning: invalid value encountered in divide\n",
      "  dist = 1.0 - uv / math.sqrt(uu * vv)\n"
     ]
    },
    {
     "name": "stdout",
     "output_type": "stream",
     "text": [
      "[save_wav] wrote: c:\\Users\\egorp\\Nextcloud\\code\\public_repos\\FFTimbre\\rendered_audio\\optimized_output_fm_cello_single_bh_cosine_20250904-003840.wav\n",
      "TSV file was saved at: c:\\Users\\egorp\\Nextcloud\\code\\public_repos\\FFTimbre\\tsv\\final_values_fm_cello_single_bh_cosine_20250904-003840.tsv\n"
     ]
    },
    {
     "data": {
      "application/vnd.jupyter.widget-view+json": {
       "model_id": "e89f398669234b91a8634415100dc4ae",
       "version_major": 2,
       "version_minor": 0
      },
      "text/plain": [
       "FM 4-osc DE → Euclidean:   0%|           0/500 [ETA: ?, Elapsed: 00:00]"
      ]
     },
     "metadata": {},
     "output_type": "display_data"
    },
    {
     "name": "stdout",
     "output_type": "stream",
     "text": [
      "[save_wav] wrote: c:\\Users\\egorp\\Nextcloud\\code\\public_repos\\FFTimbre\\rendered_audio\\optimized_output_fm_cello_single_de_euclidean_20250904-004049.wav\n",
      "TSV file was saved at: c:\\Users\\egorp\\Nextcloud\\code\\public_repos\\FFTimbre\\tsv\\final_values_fm_cello_single_de_euclidean_20250904-004049.tsv\n"
     ]
    },
    {
     "data": {
      "application/vnd.jupyter.widget-view+json": {
       "model_id": "2567654810614ba4a7d8e628bea67980",
       "version_major": 2,
       "version_minor": 0
      },
      "text/plain": [
       "FM 4-osc DA → Euclidean:   0%|           0/500 [ETA: ?, Elapsed: 00:00]"
      ]
     },
     "metadata": {},
     "output_type": "display_data"
    },
    {
     "name": "stdout",
     "output_type": "stream",
     "text": [
      "[save_wav] wrote: c:\\Users\\egorp\\Nextcloud\\code\\public_repos\\FFTimbre\\rendered_audio\\optimized_output_fm_cello_single_da_euclidean_20250904-004117.wav\n",
      "TSV file was saved at: c:\\Users\\egorp\\Nextcloud\\code\\public_repos\\FFTimbre\\tsv\\final_values_fm_cello_single_da_euclidean_20250904-004117.tsv\n"
     ]
    },
    {
     "data": {
      "application/vnd.jupyter.widget-view+json": {
       "model_id": "b753aed6f62b4695beaac032ce9901ab",
       "version_major": 2,
       "version_minor": 0
      },
      "text/plain": [
       "FM 4-osc BH → Euclidean:   0%|           0/500 [ETA: ?, Elapsed: 00:00]"
      ]
     },
     "metadata": {},
     "output_type": "display_data"
    },
    {
     "name": "stdout",
     "output_type": "stream",
     "text": [
      "[save_wav] wrote: c:\\Users\\egorp\\Nextcloud\\code\\public_repos\\FFTimbre\\rendered_audio\\optimized_output_fm_cello_single_bh_euclidean_20250904-004138.wav\n",
      "TSV file was saved at: c:\\Users\\egorp\\Nextcloud\\code\\public_repos\\FFTimbre\\tsv\\final_values_fm_cello_single_bh_euclidean_20250904-004138.tsv\n"
     ]
    },
    {
     "data": {
      "application/vnd.jupyter.widget-view+json": {
       "model_id": "151ef58ce7524bcc8ff8c695b824b013",
       "version_major": 2,
       "version_minor": 0
      },
      "text/plain": [
       "FM 4-osc DE → Manhattan:   0%|           0/500 [ETA: ?, Elapsed: 00:00]"
      ]
     },
     "metadata": {},
     "output_type": "display_data"
    },
    {
     "name": "stdout",
     "output_type": "stream",
     "text": [
      "[save_wav] wrote: c:\\Users\\egorp\\Nextcloud\\code\\public_repos\\FFTimbre\\rendered_audio\\optimized_output_fm_cello_single_de_manhattan_20250904-004211.wav\n",
      "TSV file was saved at: c:\\Users\\egorp\\Nextcloud\\code\\public_repos\\FFTimbre\\tsv\\final_values_fm_cello_single_de_manhattan_20250904-004211.tsv\n"
     ]
    },
    {
     "data": {
      "application/vnd.jupyter.widget-view+json": {
       "model_id": "cd170bef86b741bdb71bcc153c1eca8e",
       "version_major": 2,
       "version_minor": 0
      },
      "text/plain": [
       "FM 4-osc DA → Manhattan:   0%|           0/500 [ETA: ?, Elapsed: 00:00]"
      ]
     },
     "metadata": {},
     "output_type": "display_data"
    },
    {
     "name": "stdout",
     "output_type": "stream",
     "text": [
      "[save_wav] wrote: c:\\Users\\egorp\\Nextcloud\\code\\public_repos\\FFTimbre\\rendered_audio\\optimized_output_fm_cello_single_da_manhattan_20250904-004233.wav\n",
      "TSV file was saved at: c:\\Users\\egorp\\Nextcloud\\code\\public_repos\\FFTimbre\\tsv\\final_values_fm_cello_single_da_manhattan_20250904-004233.tsv\n"
     ]
    },
    {
     "data": {
      "application/vnd.jupyter.widget-view+json": {
       "model_id": "15f08845cf3841788060f63b0b6a4691",
       "version_major": 2,
       "version_minor": 0
      },
      "text/plain": [
       "FM 4-osc BH → Manhattan:   0%|           0/500 [ETA: ?, Elapsed: 00:00]"
      ]
     },
     "metadata": {},
     "output_type": "display_data"
    },
    {
     "name": "stdout",
     "output_type": "stream",
     "text": [
      "[save_wav] wrote: c:\\Users\\egorp\\Nextcloud\\code\\public_repos\\FFTimbre\\rendered_audio\\optimized_output_fm_cello_single_bh_manhattan_20250904-004305.wav\n",
      "TSV file was saved at: c:\\Users\\egorp\\Nextcloud\\code\\public_repos\\FFTimbre\\tsv\\final_values_fm_cello_single_bh_manhattan_20250904-004305.tsv\n"
     ]
    },
    {
     "data": {
      "application/vnd.jupyter.widget-view+json": {
       "model_id": "4d0a98086fbb406aa8fdc402f8098f55",
       "version_major": 2,
       "version_minor": 0
      },
      "text/plain": [
       "FM 4-osc DE → Kl:   0%|           0/500 [ETA: ?, Elapsed: 00:00]"
      ]
     },
     "metadata": {},
     "output_type": "display_data"
    },
    {
     "name": "stdout",
     "output_type": "stream",
     "text": [
      "[save_wav] wrote: c:\\Users\\egorp\\Nextcloud\\code\\public_repos\\FFTimbre\\rendered_audio\\optimized_output_fm_cello_single_de_kl_20250904-004429.wav\n",
      "TSV file was saved at: c:\\Users\\egorp\\Nextcloud\\code\\public_repos\\FFTimbre\\tsv\\final_values_fm_cello_single_de_kl_20250904-004429.tsv\n"
     ]
    },
    {
     "data": {
      "application/vnd.jupyter.widget-view+json": {
       "model_id": "c32318ad723e42e2a271f7c7a2811c53",
       "version_major": 2,
       "version_minor": 0
      },
      "text/plain": [
       "FM 4-osc DA → Kl:   0%|           0/500 [ETA: ?, Elapsed: 00:00]"
      ]
     },
     "metadata": {},
     "output_type": "display_data"
    },
    {
     "name": "stdout",
     "output_type": "stream",
     "text": [
      "[save_wav] wrote: c:\\Users\\egorp\\Nextcloud\\code\\public_repos\\FFTimbre\\rendered_audio\\optimized_output_fm_cello_single_da_kl_20250904-004455.wav\n",
      "TSV file was saved at: c:\\Users\\egorp\\Nextcloud\\code\\public_repos\\FFTimbre\\tsv\\final_values_fm_cello_single_da_kl_20250904-004455.tsv\n"
     ]
    },
    {
     "data": {
      "application/vnd.jupyter.widget-view+json": {
       "model_id": "dbc16a14c99745a89bde1ca8a1ab4329",
       "version_major": 2,
       "version_minor": 0
      },
      "text/plain": [
       "FM 4-osc BH → Kl:   0%|           0/500 [ETA: ?, Elapsed: 00:00]"
      ]
     },
     "metadata": {},
     "output_type": "display_data"
    },
    {
     "name": "stdout",
     "output_type": "stream",
     "text": [
      "[save_wav] wrote: c:\\Users\\egorp\\Nextcloud\\code\\public_repos\\FFTimbre\\rendered_audio\\optimized_output_fm_cello_single_bh_kl_20250904-004529.wav\n",
      "TSV file was saved at: c:\\Users\\egorp\\Nextcloud\\code\\public_repos\\FFTimbre\\tsv\\final_values_fm_cello_single_bh_kl_20250904-004529.tsv\n"
     ]
    },
    {
     "data": {
      "text/html": [
       "<div>\n",
       "<style scoped>\n",
       "    .dataframe tbody tr th:only-of-type {\n",
       "        vertical-align: middle;\n",
       "    }\n",
       "\n",
       "    .dataframe tbody tr th {\n",
       "        vertical-align: top;\n",
       "    }\n",
       "\n",
       "    .dataframe thead th {\n",
       "        text-align: right;\n",
       "    }\n",
       "</style>\n",
       "<table border=\"1\" class=\"dataframe\">\n",
       "  <thead>\n",
       "    <tr style=\"text-align: right;\">\n",
       "      <th></th>\n",
       "      <th>method</th>\n",
       "      <th>metric</th>\n",
       "      <th>best</th>\n",
       "      <th>wav_path</th>\n",
       "      <th>tsv_path</th>\n",
       "      <th>plots</th>\n",
       "    </tr>\n",
       "  </thead>\n",
       "  <tbody>\n",
       "    <tr>\n",
       "      <th>12</th>\n",
       "      <td>de</td>\n",
       "      <td>cosine</td>\n",
       "      <td>1.165722e-01</td>\n",
       "      <td>rendered_audio\\optimized_output_fm_cello_singl...</td>\n",
       "      <td>tsv/final_values_fm_cello_single_de_cosine_202...</td>\n",
       "      <td>{'time': 'rendered_plots\\optimized_output_fm_c...</td>\n",
       "    </tr>\n",
       "    <tr>\n",
       "      <th>13</th>\n",
       "      <td>da</td>\n",
       "      <td>cosine</td>\n",
       "      <td>5.457861e-01</td>\n",
       "      <td>rendered_audio\\optimized_output_fm_cello_singl...</td>\n",
       "      <td>tsv/final_values_fm_cello_single_da_cosine_202...</td>\n",
       "      <td>{'time': 'rendered_plots\\optimized_output_fm_c...</td>\n",
       "    </tr>\n",
       "    <tr>\n",
       "      <th>14</th>\n",
       "      <td>bh</td>\n",
       "      <td>cosine</td>\n",
       "      <td>9.714084e-01</td>\n",
       "      <td>rendered_audio\\optimized_output_fm_cello_singl...</td>\n",
       "      <td>tsv/final_values_fm_cello_single_bh_cosine_202...</td>\n",
       "      <td>{'time': 'rendered_plots\\optimized_output_fm_c...</td>\n",
       "    </tr>\n",
       "    <tr>\n",
       "      <th>15</th>\n",
       "      <td>de</td>\n",
       "      <td>euclidean</td>\n",
       "      <td>5.755499e+04</td>\n",
       "      <td>rendered_audio\\optimized_output_fm_cello_singl...</td>\n",
       "      <td>tsv/final_values_fm_cello_single_de_euclidean_...</td>\n",
       "      <td>{'time': 'rendered_plots\\optimized_output_fm_c...</td>\n",
       "    </tr>\n",
       "    <tr>\n",
       "      <th>17</th>\n",
       "      <td>bh</td>\n",
       "      <td>euclidean</td>\n",
       "      <td>5.874737e+04</td>\n",
       "      <td>rendered_audio\\optimized_output_fm_cello_singl...</td>\n",
       "      <td>tsv/final_values_fm_cello_single_bh_euclidean_...</td>\n",
       "      <td>{'time': 'rendered_plots\\optimized_output_fm_c...</td>\n",
       "    </tr>\n",
       "    <tr>\n",
       "      <th>16</th>\n",
       "      <td>da</td>\n",
       "      <td>euclidean</td>\n",
       "      <td>6.096170e+04</td>\n",
       "      <td>rendered_audio\\optimized_output_fm_cello_singl...</td>\n",
       "      <td>tsv/final_values_fm_cello_single_da_euclidean_...</td>\n",
       "      <td>{'time': 'rendered_plots\\optimized_output_fm_c...</td>\n",
       "    </tr>\n",
       "    <tr>\n",
       "      <th>6</th>\n",
       "      <td>de</td>\n",
       "      <td>itakura_saito</td>\n",
       "      <td>1.457833e+06</td>\n",
       "      <td>rendered_audio\\optimized_output_fm_cello_singl...</td>\n",
       "      <td>tsv/final_values_fm_cello_single_de_itakura_sa...</td>\n",
       "      <td>{'time': 'rendered_plots\\optimized_output_fm_c...</td>\n",
       "    </tr>\n",
       "    <tr>\n",
       "      <th>7</th>\n",
       "      <td>da</td>\n",
       "      <td>itakura_saito</td>\n",
       "      <td>1.597466e+06</td>\n",
       "      <td>rendered_audio\\optimized_output_fm_cello_singl...</td>\n",
       "      <td>tsv/final_values_fm_cello_single_da_itakura_sa...</td>\n",
       "      <td>{'time': 'rendered_plots\\optimized_output_fm_c...</td>\n",
       "    </tr>\n",
       "    <tr>\n",
       "      <th>8</th>\n",
       "      <td>bh</td>\n",
       "      <td>itakura_saito</td>\n",
       "      <td>1.948793e+06</td>\n",
       "      <td>rendered_audio\\optimized_output_fm_cello_singl...</td>\n",
       "      <td>tsv/final_values_fm_cello_single_bh_itakura_sa...</td>\n",
       "      <td>{'time': 'rendered_plots\\optimized_output_fm_c...</td>\n",
       "    </tr>\n",
       "    <tr>\n",
       "      <th>21</th>\n",
       "      <td>de</td>\n",
       "      <td>kl</td>\n",
       "      <td>1.380497e+00</td>\n",
       "      <td>rendered_audio\\optimized_output_fm_cello_singl...</td>\n",
       "      <td>tsv/final_values_fm_cello_single_de_kl_2025090...</td>\n",
       "      <td>{'time': 'rendered_plots\\optimized_output_fm_c...</td>\n",
       "    </tr>\n",
       "    <tr>\n",
       "      <th>22</th>\n",
       "      <td>da</td>\n",
       "      <td>kl</td>\n",
       "      <td>4.438695e+00</td>\n",
       "      <td>rendered_audio\\optimized_output_fm_cello_singl...</td>\n",
       "      <td>tsv/final_values_fm_cello_single_da_kl_2025090...</td>\n",
       "      <td>{'time': 'rendered_plots\\optimized_output_fm_c...</td>\n",
       "    </tr>\n",
       "    <tr>\n",
       "      <th>23</th>\n",
       "      <td>bh</td>\n",
       "      <td>kl</td>\n",
       "      <td>6.672221e+00</td>\n",
       "      <td>rendered_audio\\optimized_output_fm_cello_singl...</td>\n",
       "      <td>tsv/final_values_fm_cello_single_bh_kl_2025090...</td>\n",
       "      <td>{'time': 'rendered_plots\\optimized_output_fm_c...</td>\n",
       "    </tr>\n",
       "    <tr>\n",
       "      <th>19</th>\n",
       "      <td>da</td>\n",
       "      <td>manhattan</td>\n",
       "      <td>1.642546e+01</td>\n",
       "      <td>rendered_audio\\optimized_output_fm_cello_singl...</td>\n",
       "      <td>tsv/final_values_fm_cello_single_da_manhattan_...</td>\n",
       "      <td>{'time': 'rendered_plots\\optimized_output_fm_c...</td>\n",
       "    </tr>\n",
       "    <tr>\n",
       "      <th>20</th>\n",
       "      <td>bh</td>\n",
       "      <td>manhattan</td>\n",
       "      <td>1.642546e+01</td>\n",
       "      <td>rendered_audio\\optimized_output_fm_cello_singl...</td>\n",
       "      <td>tsv/final_values_fm_cello_single_bh_manhattan_...</td>\n",
       "      <td>{'time': 'rendered_plots\\optimized_output_fm_c...</td>\n",
       "    </tr>\n",
       "    <tr>\n",
       "      <th>18</th>\n",
       "      <td>de</td>\n",
       "      <td>manhattan</td>\n",
       "      <td>1.484380e+05</td>\n",
       "      <td>rendered_audio\\optimized_output_fm_cello_singl...</td>\n",
       "      <td>tsv/final_values_fm_cello_single_de_manhattan_...</td>\n",
       "      <td>{'time': 'rendered_plots\\optimized_output_fm_c...</td>\n",
       "    </tr>\n",
       "    <tr>\n",
       "      <th>3</th>\n",
       "      <td>de</td>\n",
       "      <td>mfcc</td>\n",
       "      <td>2.266003e+01</td>\n",
       "      <td>rendered_audio\\optimized_output_fm_cello_singl...</td>\n",
       "      <td>tsv/final_values_fm_cello_single_de_mfcc_20250...</td>\n",
       "      <td>{'time': 'rendered_plots\\optimized_output_fm_c...</td>\n",
       "    </tr>\n",
       "    <tr>\n",
       "      <th>4</th>\n",
       "      <td>da</td>\n",
       "      <td>mfcc</td>\n",
       "      <td>1.409789e+02</td>\n",
       "      <td>rendered_audio\\optimized_output_fm_cello_singl...</td>\n",
       "      <td>tsv/final_values_fm_cello_single_da_mfcc_20250...</td>\n",
       "      <td>{'time': 'rendered_plots\\optimized_output_fm_c...</td>\n",
       "    </tr>\n",
       "    <tr>\n",
       "      <th>5</th>\n",
       "      <td>bh</td>\n",
       "      <td>mfcc</td>\n",
       "      <td>2.747155e+02</td>\n",
       "      <td>rendered_audio\\optimized_output_fm_cello_singl...</td>\n",
       "      <td>tsv/final_values_fm_cello_single_bh_mfcc_20250...</td>\n",
       "      <td>{'time': 'rendered_plots\\optimized_output_fm_c...</td>\n",
       "    </tr>\n",
       "    <tr>\n",
       "      <th>0</th>\n",
       "      <td>de</td>\n",
       "      <td>pearson</td>\n",
       "      <td>1.165308e-01</td>\n",
       "      <td>rendered_audio\\optimized_output_fm_cello_singl...</td>\n",
       "      <td>tsv/final_values_fm_cello_single_de_pearson_20...</td>\n",
       "      <td>{'time': 'rendered_plots\\optimized_output_fm_c...</td>\n",
       "    </tr>\n",
       "    <tr>\n",
       "      <th>1</th>\n",
       "      <td>da</td>\n",
       "      <td>pearson</td>\n",
       "      <td>1.828082e-01</td>\n",
       "      <td>rendered_audio\\optimized_output_fm_cello_singl...</td>\n",
       "      <td>tsv/final_values_fm_cello_single_da_pearson_20...</td>\n",
       "      <td>{'time': 'rendered_plots\\optimized_output_fm_c...</td>\n",
       "    </tr>\n",
       "    <tr>\n",
       "      <th>2</th>\n",
       "      <td>bh</td>\n",
       "      <td>pearson</td>\n",
       "      <td>9.789205e-01</td>\n",
       "      <td>rendered_audio\\optimized_output_fm_cello_singl...</td>\n",
       "      <td>tsv/final_values_fm_cello_single_bh_pearson_20...</td>\n",
       "      <td>{'time': 'rendered_plots\\optimized_output_fm_c...</td>\n",
       "    </tr>\n",
       "    <tr>\n",
       "      <th>10</th>\n",
       "      <td>da</td>\n",
       "      <td>spectral_convergence</td>\n",
       "      <td>1.000000e+00</td>\n",
       "      <td>rendered_audio\\optimized_output_fm_cello_singl...</td>\n",
       "      <td>tsv/final_values_fm_cello_single_da_spectral_c...</td>\n",
       "      <td>{'time': 'rendered_plots\\optimized_output_fm_c...</td>\n",
       "    </tr>\n",
       "    <tr>\n",
       "      <th>9</th>\n",
       "      <td>de</td>\n",
       "      <td>spectral_convergence</td>\n",
       "      <td>2.179766e+04</td>\n",
       "      <td>rendered_audio\\optimized_output_fm_cello_singl...</td>\n",
       "      <td>tsv/final_values_fm_cello_single_de_spectral_c...</td>\n",
       "      <td>{'time': 'rendered_plots\\optimized_output_fm_c...</td>\n",
       "    </tr>\n",
       "    <tr>\n",
       "      <th>11</th>\n",
       "      <td>bh</td>\n",
       "      <td>spectral_convergence</td>\n",
       "      <td>2.224925e+04</td>\n",
       "      <td>rendered_audio\\optimized_output_fm_cello_singl...</td>\n",
       "      <td>tsv/final_values_fm_cello_single_bh_spectral_c...</td>\n",
       "      <td>{'time': 'rendered_plots\\optimized_output_fm_c...</td>\n",
       "    </tr>\n",
       "  </tbody>\n",
       "</table>\n",
       "</div>"
      ],
      "text/plain": [
       "   method                metric          best  \\\n",
       "12     de                cosine  1.165722e-01   \n",
       "13     da                cosine  5.457861e-01   \n",
       "14     bh                cosine  9.714084e-01   \n",
       "15     de             euclidean  5.755499e+04   \n",
       "17     bh             euclidean  5.874737e+04   \n",
       "16     da             euclidean  6.096170e+04   \n",
       "6      de         itakura_saito  1.457833e+06   \n",
       "7      da         itakura_saito  1.597466e+06   \n",
       "8      bh         itakura_saito  1.948793e+06   \n",
       "21     de                    kl  1.380497e+00   \n",
       "22     da                    kl  4.438695e+00   \n",
       "23     bh                    kl  6.672221e+00   \n",
       "19     da             manhattan  1.642546e+01   \n",
       "20     bh             manhattan  1.642546e+01   \n",
       "18     de             manhattan  1.484380e+05   \n",
       "3      de                  mfcc  2.266003e+01   \n",
       "4      da                  mfcc  1.409789e+02   \n",
       "5      bh                  mfcc  2.747155e+02   \n",
       "0      de               pearson  1.165308e-01   \n",
       "1      da               pearson  1.828082e-01   \n",
       "2      bh               pearson  9.789205e-01   \n",
       "10     da  spectral_convergence  1.000000e+00   \n",
       "9      de  spectral_convergence  2.179766e+04   \n",
       "11     bh  spectral_convergence  2.224925e+04   \n",
       "\n",
       "                                             wav_path  \\\n",
       "12  rendered_audio\\optimized_output_fm_cello_singl...   \n",
       "13  rendered_audio\\optimized_output_fm_cello_singl...   \n",
       "14  rendered_audio\\optimized_output_fm_cello_singl...   \n",
       "15  rendered_audio\\optimized_output_fm_cello_singl...   \n",
       "17  rendered_audio\\optimized_output_fm_cello_singl...   \n",
       "16  rendered_audio\\optimized_output_fm_cello_singl...   \n",
       "6   rendered_audio\\optimized_output_fm_cello_singl...   \n",
       "7   rendered_audio\\optimized_output_fm_cello_singl...   \n",
       "8   rendered_audio\\optimized_output_fm_cello_singl...   \n",
       "21  rendered_audio\\optimized_output_fm_cello_singl...   \n",
       "22  rendered_audio\\optimized_output_fm_cello_singl...   \n",
       "23  rendered_audio\\optimized_output_fm_cello_singl...   \n",
       "19  rendered_audio\\optimized_output_fm_cello_singl...   \n",
       "20  rendered_audio\\optimized_output_fm_cello_singl...   \n",
       "18  rendered_audio\\optimized_output_fm_cello_singl...   \n",
       "3   rendered_audio\\optimized_output_fm_cello_singl...   \n",
       "4   rendered_audio\\optimized_output_fm_cello_singl...   \n",
       "5   rendered_audio\\optimized_output_fm_cello_singl...   \n",
       "0   rendered_audio\\optimized_output_fm_cello_singl...   \n",
       "1   rendered_audio\\optimized_output_fm_cello_singl...   \n",
       "2   rendered_audio\\optimized_output_fm_cello_singl...   \n",
       "10  rendered_audio\\optimized_output_fm_cello_singl...   \n",
       "9   rendered_audio\\optimized_output_fm_cello_singl...   \n",
       "11  rendered_audio\\optimized_output_fm_cello_singl...   \n",
       "\n",
       "                                             tsv_path  \\\n",
       "12  tsv/final_values_fm_cello_single_de_cosine_202...   \n",
       "13  tsv/final_values_fm_cello_single_da_cosine_202...   \n",
       "14  tsv/final_values_fm_cello_single_bh_cosine_202...   \n",
       "15  tsv/final_values_fm_cello_single_de_euclidean_...   \n",
       "17  tsv/final_values_fm_cello_single_bh_euclidean_...   \n",
       "16  tsv/final_values_fm_cello_single_da_euclidean_...   \n",
       "6   tsv/final_values_fm_cello_single_de_itakura_sa...   \n",
       "7   tsv/final_values_fm_cello_single_da_itakura_sa...   \n",
       "8   tsv/final_values_fm_cello_single_bh_itakura_sa...   \n",
       "21  tsv/final_values_fm_cello_single_de_kl_2025090...   \n",
       "22  tsv/final_values_fm_cello_single_da_kl_2025090...   \n",
       "23  tsv/final_values_fm_cello_single_bh_kl_2025090...   \n",
       "19  tsv/final_values_fm_cello_single_da_manhattan_...   \n",
       "20  tsv/final_values_fm_cello_single_bh_manhattan_...   \n",
       "18  tsv/final_values_fm_cello_single_de_manhattan_...   \n",
       "3   tsv/final_values_fm_cello_single_de_mfcc_20250...   \n",
       "4   tsv/final_values_fm_cello_single_da_mfcc_20250...   \n",
       "5   tsv/final_values_fm_cello_single_bh_mfcc_20250...   \n",
       "0   tsv/final_values_fm_cello_single_de_pearson_20...   \n",
       "1   tsv/final_values_fm_cello_single_da_pearson_20...   \n",
       "2   tsv/final_values_fm_cello_single_bh_pearson_20...   \n",
       "10  tsv/final_values_fm_cello_single_da_spectral_c...   \n",
       "9   tsv/final_values_fm_cello_single_de_spectral_c...   \n",
       "11  tsv/final_values_fm_cello_single_bh_spectral_c...   \n",
       "\n",
       "                                                plots  \n",
       "12  {'time': 'rendered_plots\\optimized_output_fm_c...  \n",
       "13  {'time': 'rendered_plots\\optimized_output_fm_c...  \n",
       "14  {'time': 'rendered_plots\\optimized_output_fm_c...  \n",
       "15  {'time': 'rendered_plots\\optimized_output_fm_c...  \n",
       "17  {'time': 'rendered_plots\\optimized_output_fm_c...  \n",
       "16  {'time': 'rendered_plots\\optimized_output_fm_c...  \n",
       "6   {'time': 'rendered_plots\\optimized_output_fm_c...  \n",
       "7   {'time': 'rendered_plots\\optimized_output_fm_c...  \n",
       "8   {'time': 'rendered_plots\\optimized_output_fm_c...  \n",
       "21  {'time': 'rendered_plots\\optimized_output_fm_c...  \n",
       "22  {'time': 'rendered_plots\\optimized_output_fm_c...  \n",
       "23  {'time': 'rendered_plots\\optimized_output_fm_c...  \n",
       "19  {'time': 'rendered_plots\\optimized_output_fm_c...  \n",
       "20  {'time': 'rendered_plots\\optimized_output_fm_c...  \n",
       "18  {'time': 'rendered_plots\\optimized_output_fm_c...  \n",
       "3   {'time': 'rendered_plots\\optimized_output_fm_c...  \n",
       "4   {'time': 'rendered_plots\\optimized_output_fm_c...  \n",
       "5   {'time': 'rendered_plots\\optimized_output_fm_c...  \n",
       "0   {'time': 'rendered_plots\\optimized_output_fm_c...  \n",
       "1   {'time': 'rendered_plots\\optimized_output_fm_c...  \n",
       "2   {'time': 'rendered_plots\\optimized_output_fm_c...  \n",
       "10  {'time': 'rendered_plots\\optimized_output_fm_c...  \n",
       "9   {'time': 'rendered_plots\\optimized_output_fm_c...  \n",
       "11  {'time': 'rendered_plots\\optimized_output_fm_c...  "
      ]
     },
     "metadata": {},
     "output_type": "display_data"
    }
   ],
   "source": [
    "from py_scripts.optimization_workflow import run_batch_jobs, BatchJob\n",
    "\n",
    "jobs = [\n",
    "    BatchJob(method='de', metric='pearson', kwargs={'maxiter': 500, 'workers': -1}),\n",
    "    BatchJob(method='da', metric='pearson', kwargs={'maxiter': 500}),\n",
    "    BatchJob(method='bh', metric='pearson', kwargs={'maxiter': 500, 'stepsize': 0.4}),\n",
    "    \n",
    "    # Add more combinations as needed, e.g.:\n",
    "    BatchJob(method='de', metric='mfcc', kwargs={'maxiter': 500, 'workers': -1}),\n",
    "    BatchJob(method='da', metric='mfcc', kwargs={'maxiter': 500}),\n",
    "    BatchJob(method='bh', metric='mfcc', kwargs={'maxiter': 500, 'stepsize': 0.4}),\n",
    "\n",
    "    BatchJob(method='de', metric='itakura_saito', kwargs={'maxiter': 500, 'workers': -1}),\n",
    "    BatchJob(method='da', metric='itakura_saito', kwargs={'maxiter': 500}),\n",
    "    BatchJob(method='bh', metric='itakura_saito', kwargs={'maxiter': 500, 'stepsize': 0.4}),\n",
    "\n",
    "    BatchJob(method='de', metric='spectral_convergence', kwargs={'maxiter': 500, 'workers': -1}),\n",
    "    BatchJob(method='da', metric='spectral_convergence', kwargs={'maxiter': 500}),\n",
    "    BatchJob(method='bh', metric='spectral_convergence', kwargs={'maxiter': 500, 'stepsize': 0.4}),\n",
    "\n",
    "    BatchJob(method='de', metric='cosine', kwargs={'maxiter': 500, 'workers': -1}),\n",
    "    BatchJob(method='da', metric='cosine', kwargs={'maxiter': 500}),\n",
    "    BatchJob(method='bh', metric='cosine', kwargs={'maxiter': 500, 'stepsize': 0.4}),\n",
    "\n",
    "    BatchJob(method='de', metric='euclidean', kwargs={'maxiter': 500, 'workers': -1}),\n",
    "    BatchJob(method='da', metric='euclidean', kwargs={'maxiter': 500}),\n",
    "    BatchJob(method='bh', metric='euclidean', kwargs={'maxiter': 500, 'stepsize': 0.4}),   \n",
    "\n",
    "    BatchJob(method='de', metric='manhattan', kwargs={'maxiter': 500, 'workers': -1}),\n",
    "    BatchJob(method='da', metric='manhattan', kwargs={'maxiter': 500}),\n",
    "    BatchJob(method='bh', metric='manhattan', kwargs={'maxiter': 500, 'stepsize': 0.4}),\n",
    "    \n",
    "    BatchJob(method='de', metric='kl', kwargs={'maxiter': 500, 'workers': -1}),\n",
    "    BatchJob(method='da', metric='kl', kwargs={'maxiter': 500}),\n",
    "    BatchJob(method='bh', metric='kl', kwargs={'maxiter': 500, 'stepsize': 0.4})   \n",
    "\n",
    "]\n",
    "\n",
    "rows = run_batch_jobs(\n",
    "    target_freqs, target_amps, jobs,\n",
    "    target_name=target_name,\n",
    "    sr=SR, duration=DURATION, fft_pad=FFT_PAD,\n",
    "    fade_in_ms=FADE_IN_MS, fade_out_ms=FADE_OUT_MS,\n",
    "    seed=42,\n",
    ")\n",
    "\n",
    "# Summarize batch results (params/history omitted for brevity)\n",
    "summary = pd.DataFrame([{k: v for k, v in r.items() if k not in ('params','history') } for r in rows])\n",
    "display(summary.sort_values(['metric', 'best']))\n"
   ]
  },
  {
   "cell_type": "markdown",
   "id": "704e1d86",
   "metadata": {},
   "source": [
    "## Outputs and naming schema\n",
    "Each job saves: \n",
    "- Audio (`.wav`) to `rendered_audio/optimized_output_fm_<target>_<method>_<metric>_<YYYYMMDD-HHMMSS>.wav`\n",
    "- Plots (`.png`) to `rendered_plots/optimized_output_fm_<target>_<method>_<metric>_<YYYYMMDD-HHMMSS>_<type>.png`\n",
    "  - `<type>` ∈ `time`, `spectrum`, `error`\n",
    "- Final oscillator values to `tsv/final_values_fm_<target>_<method>_<metric>_<YYYYMMDD-HHMMSS>.tsv`\n",
    "\n",
    "The naming follows the same `_method_metric_timestamp` pattern used by `save_wav(add_info=True, add_time=True)` for consistency across assets.\n",
    "\n",
    "## Parallel processing note\n",
    "- `workers` (parallel execution) is supported by Differential Evolution (`method='de'`).\n",
    "- Dual Annealing (`'da'`) and Basin Hopping (`'bh'`) do not accept `workers`. Any unsupported kwargs are safely ignored by the batch runner."
   ]
  }
 ],
 "metadata": {
  "kernelspec": {
   "display_name": "py3124t",
   "language": "python",
   "name": "python3"
  },
  "language_info": {
   "codemirror_mode": {
    "name": "ipython",
    "version": 3
   },
   "file_extension": ".py",
   "mimetype": "text/x-python",
   "name": "python",
   "nbconvert_exporter": "python",
   "pygments_lexer": "ipython3",
   "version": "3.12.4"
  }
 },
 "nbformat": 4,
 "nbformat_minor": 5
}
