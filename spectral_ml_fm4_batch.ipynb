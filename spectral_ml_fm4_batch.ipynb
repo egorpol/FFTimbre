{
 "cells": [
  {
   "cell_type": "markdown",
   "metadata": {},
   "source": [
    "# Batch Optimization Examples\n",
    "\n",
    "This notebook shows how to run multiple metric/optimizer jobs in a batch using `py_scripts/optimization_workflow.py`.\n",
    "It also saves audio and plots with a consistent naming scheme matching `save_wav(add_info=True, add_time=True)`."
   ]
  },
  {
   "cell_type": "code",
   "execution_count": 3,
   "id": "4b7a4645",
   "metadata": {},
   "outputs": [
    {
     "data": {
      "text/html": [
       "<div>\n",
       "<style scoped>\n",
       "    .dataframe tbody tr th:only-of-type {\n",
       "        vertical-align: middle;\n",
       "    }\n",
       "\n",
       "    .dataframe tbody tr th {\n",
       "        vertical-align: top;\n",
       "    }\n",
       "\n",
       "    .dataframe thead th {\n",
       "        text-align: right;\n",
       "    }\n",
       "</style>\n",
       "<table border=\"1\" class=\"dataframe\">\n",
       "  <thead>\n",
       "    <tr style=\"text-align: right;\">\n",
       "      <th></th>\n",
       "      <th>Frequency (Hz)</th>\n",
       "      <th>Amplitude</th>\n",
       "    </tr>\n",
       "  </thead>\n",
       "  <tbody>\n",
       "    <tr>\n",
       "      <th>0</th>\n",
       "      <td>431.578947</td>\n",
       "      <td>0.000596</td>\n",
       "    </tr>\n",
       "    <tr>\n",
       "      <th>1</th>\n",
       "      <td>444.736842</td>\n",
       "      <td>0.003736</td>\n",
       "    </tr>\n",
       "    <tr>\n",
       "      <th>2</th>\n",
       "      <td>452.631579</td>\n",
       "      <td>0.006030</td>\n",
       "    </tr>\n",
       "    <tr>\n",
       "      <th>3</th>\n",
       "      <td>460.526316</td>\n",
       "      <td>0.111060</td>\n",
       "    </tr>\n",
       "    <tr>\n",
       "      <th>4</th>\n",
       "      <td>478.947368</td>\n",
       "      <td>0.002054</td>\n",
       "    </tr>\n",
       "    <tr>\n",
       "      <th>5</th>\n",
       "      <td>905.263158</td>\n",
       "      <td>0.000590</td>\n",
       "    </tr>\n",
       "    <tr>\n",
       "      <th>6</th>\n",
       "      <td>921.052632</td>\n",
       "      <td>0.016148</td>\n",
       "    </tr>\n",
       "    <tr>\n",
       "      <th>7</th>\n",
       "      <td>926.315789</td>\n",
       "      <td>0.012469</td>\n",
       "    </tr>\n",
       "    <tr>\n",
       "      <th>8</th>\n",
       "      <td>939.473684</td>\n",
       "      <td>0.001063</td>\n",
       "    </tr>\n",
       "    <tr>\n",
       "      <th>9</th>\n",
       "      <td>1386.842105</td>\n",
       "      <td>0.000786</td>\n",
       "    </tr>\n",
       "    <tr>\n",
       "      <th>10</th>\n",
       "      <td>1847.368421</td>\n",
       "      <td>0.000537</td>\n",
       "    </tr>\n",
       "  </tbody>\n",
       "</table>\n",
       "</div>"
      ],
      "text/plain": [
       "    Frequency (Hz)  Amplitude\n",
       "0       431.578947   0.000596\n",
       "1       444.736842   0.003736\n",
       "2       452.631579   0.006030\n",
       "3       460.526316   0.111060\n",
       "4       478.947368   0.002054\n",
       "5       905.263158   0.000590\n",
       "6       921.052632   0.016148\n",
       "7       926.315789   0.012469\n",
       "8       939.473684   0.001063\n",
       "9      1386.842105   0.000786\n",
       "10     1847.368421   0.000537"
      ]
     },
     "metadata": {},
     "output_type": "display_data"
    }
   ],
   "source": [
    "# Setup and target loading\n",
    "import numpy as np\n",
    "import pandas as pd\n",
    "from IPython.display import display\n",
    "from pathlib import Path\n",
    "\n",
    "# Reuse the same configuration as test.ipynb\n",
    "SR = 44100\n",
    "DURATION = 2.0\n",
    "FFT_PAD = 2\n",
    "FADE_IN_MS = 10.0\n",
    "FADE_OUT_MS = 10.0\n",
    "\n",
    "# Load target partials (example: cello)\n",
    "target_path = 'tsv/voice-single2.tsv'\n",
    "df = pd.read_csv(target_path, sep=\"\\t\")\n",
    "display(df)\n",
    "target_freqs = df[\"Frequency (Hz)\"].to_numpy()\n",
    "target_amps = (df[\"Amplitude\"] / df[\"Amplitude\"].max()).to_numpy()\n",
    "# Extract a short name for naming (e.g., 'cello_single')\n",
    "target_name = Path(target_path).stem\n"
   ]
  },
  {
   "cell_type": "markdown",
   "id": "690535f9",
   "metadata": {},
   "source": [
    "## Define batch jobs\n",
    "- `method`: one of `'de'` (Differential Evolution), `'da'` (Dual Annealing), `'bh'` (Basin Hopping).\n",
    "- `metric`: any supported metric: `'pearson'`, `'mfcc'`, `'itakura_saito'`, `'spectral_convergence'`, `'cosine'`, `'euclidean'`, `'manhattan'`, `'kl'`.\n",
    "- `kwargs`: optimizer-specific settings (e.g., `maxiter`, `workers`, `stepsize`)."
   ]
  },
  {
   "cell_type": "code",
   "execution_count": 4,
   "id": "024ebd5b",
   "metadata": {},
   "outputs": [
    {
     "data": {
      "application/vnd.jupyter.widget-view+json": {
       "model_id": "f59fe43919864199812efb6d9ddd7a10",
       "version_major": 2,
       "version_minor": 0
      },
      "text/plain": [
       "FM 4-osc DE → Pearson:   0%|           0/500 [ETA: ?, Elapsed: 00:00]"
      ]
     },
     "metadata": {},
     "output_type": "display_data"
    },
    {
     "name": "stdout",
     "output_type": "stream",
     "text": [
      "[save_wav] wrote: c:\\Users\\egorp\\Nextcloud\\code\\public_repos\\FFTimbre\\rendered_audio\\optimized_output_fm_voice-single2_de_pearson_20250908-161600.wav\n",
      "TSV file was saved at: c:\\Users\\egorp\\Nextcloud\\code\\public_repos\\FFTimbre\\tsv\\final_values_fm_voice-single2_de_pearson_20250908-161600.tsv\n",
      "[save_time_plot] wrote: c:\\Users\\egorp\\Nextcloud\\code\\public_repos\\FFTimbre\\rendered_plots\\optimized_output_fm_voice-single2_de_pearson_20250908-161600_time.png\n",
      "[save_spectrum_plot] wrote: c:\\Users\\egorp\\Nextcloud\\code\\public_repos\\FFTimbre\\rendered_plots\\optimized_output_fm_voice-single2_de_pearson_20250908-161600_spectrum.png\n",
      "[save_error_plot] wrote: c:\\Users\\egorp\\Nextcloud\\code\\public_repos\\FFTimbre\\rendered_plots\\optimized_output_fm_voice-single2_de_pearson_20250908-161600_error.png\n"
     ]
    },
    {
     "data": {
      "application/vnd.jupyter.widget-view+json": {
       "model_id": "52cf6d0c60f54572955ef9d23c0b9216",
       "version_major": 2,
       "version_minor": 0
      },
      "text/plain": [
       "FM 4-osc DA → Pearson:   0%|           0/500 [ETA: ?, Elapsed: 00:00]"
      ]
     },
     "metadata": {},
     "output_type": "display_data"
    },
    {
     "name": "stdout",
     "output_type": "stream",
     "text": [
      "[save_wav] wrote: c:\\Users\\egorp\\Nextcloud\\code\\public_repos\\FFTimbre\\rendered_audio\\optimized_output_fm_voice-single2_da_pearson_20250908-161640.wav\n",
      "TSV file was saved at: c:\\Users\\egorp\\Nextcloud\\code\\public_repos\\FFTimbre\\tsv\\final_values_fm_voice-single2_da_pearson_20250908-161640.tsv\n",
      "[save_time_plot] wrote: c:\\Users\\egorp\\Nextcloud\\code\\public_repos\\FFTimbre\\rendered_plots\\optimized_output_fm_voice-single2_da_pearson_20250908-161640_time.png\n",
      "[save_spectrum_plot] wrote: c:\\Users\\egorp\\Nextcloud\\code\\public_repos\\FFTimbre\\rendered_plots\\optimized_output_fm_voice-single2_da_pearson_20250908-161640_spectrum.png\n",
      "[save_error_plot] wrote: c:\\Users\\egorp\\Nextcloud\\code\\public_repos\\FFTimbre\\rendered_plots\\optimized_output_fm_voice-single2_da_pearson_20250908-161640_error.png\n"
     ]
    },
    {
     "data": {
      "application/vnd.jupyter.widget-view+json": {
       "model_id": "f275f383286d44c49bec18330805f01b",
       "version_major": 2,
       "version_minor": 0
      },
      "text/plain": [
       "FM 4-osc BH → Pearson:   0%|           0/500 [ETA: ?, Elapsed: 00:00]"
      ]
     },
     "metadata": {},
     "output_type": "display_data"
    },
    {
     "name": "stdout",
     "output_type": "stream",
     "text": [
      "[save_wav] wrote: c:\\Users\\egorp\\Nextcloud\\code\\public_repos\\FFTimbre\\rendered_audio\\optimized_output_fm_voice-single2_bh_pearson_20250908-161726.wav\n",
      "TSV file was saved at: c:\\Users\\egorp\\Nextcloud\\code\\public_repos\\FFTimbre\\tsv\\final_values_fm_voice-single2_bh_pearson_20250908-161726.tsv\n",
      "[save_time_plot] wrote: c:\\Users\\egorp\\Nextcloud\\code\\public_repos\\FFTimbre\\rendered_plots\\optimized_output_fm_voice-single2_bh_pearson_20250908-161726_time.png\n",
      "[save_spectrum_plot] wrote: c:\\Users\\egorp\\Nextcloud\\code\\public_repos\\FFTimbre\\rendered_plots\\optimized_output_fm_voice-single2_bh_pearson_20250908-161726_spectrum.png\n",
      "[save_error_plot] wrote: c:\\Users\\egorp\\Nextcloud\\code\\public_repos\\FFTimbre\\rendered_plots\\optimized_output_fm_voice-single2_bh_pearson_20250908-161726_error.png\n"
     ]
    },
    {
     "data": {
      "application/vnd.jupyter.widget-view+json": {
       "model_id": "1055e6a42d7a48eb844daa977daa017f",
       "version_major": 2,
       "version_minor": 0
      },
      "text/plain": [
       "FM 4-osc DE → Mfcc:   0%|           0/500 [ETA: ?, Elapsed: 00:00]"
      ]
     },
     "metadata": {},
     "output_type": "display_data"
    },
    {
     "name": "stdout",
     "output_type": "stream",
     "text": [
      "[save_wav] wrote: c:\\Users\\egorp\\Nextcloud\\code\\public_repos\\FFTimbre\\rendered_audio\\optimized_output_fm_voice-single2_de_mfcc_20250908-162141.wav\n",
      "TSV file was saved at: c:\\Users\\egorp\\Nextcloud\\code\\public_repos\\FFTimbre\\tsv\\final_values_fm_voice-single2_de_mfcc_20250908-162141.tsv\n",
      "[save_time_plot] wrote: c:\\Users\\egorp\\Nextcloud\\code\\public_repos\\FFTimbre\\rendered_plots\\optimized_output_fm_voice-single2_de_mfcc_20250908-162141_time.png\n",
      "[save_spectrum_plot] wrote: c:\\Users\\egorp\\Nextcloud\\code\\public_repos\\FFTimbre\\rendered_plots\\optimized_output_fm_voice-single2_de_mfcc_20250908-162141_spectrum.png\n",
      "[save_error_plot] wrote: c:\\Users\\egorp\\Nextcloud\\code\\public_repos\\FFTimbre\\rendered_plots\\optimized_output_fm_voice-single2_de_mfcc_20250908-162141_error.png\n"
     ]
    },
    {
     "data": {
      "application/vnd.jupyter.widget-view+json": {
       "model_id": "c2c8234f77b640b1ac5382ca5bfa585c",
       "version_major": 2,
       "version_minor": 0
      },
      "text/plain": [
       "FM 4-osc DA → Mfcc:   0%|           0/500 [ETA: ?, Elapsed: 00:00]"
      ]
     },
     "metadata": {},
     "output_type": "display_data"
    },
    {
     "name": "stdout",
     "output_type": "stream",
     "text": [
      "[save_wav] wrote: c:\\Users\\egorp\\Nextcloud\\code\\public_repos\\FFTimbre\\rendered_audio\\optimized_output_fm_voice-single2_da_mfcc_20250908-162743.wav\n",
      "TSV file was saved at: c:\\Users\\egorp\\Nextcloud\\code\\public_repos\\FFTimbre\\tsv\\final_values_fm_voice-single2_da_mfcc_20250908-162743.tsv\n",
      "[save_time_plot] wrote: c:\\Users\\egorp\\Nextcloud\\code\\public_repos\\FFTimbre\\rendered_plots\\optimized_output_fm_voice-single2_da_mfcc_20250908-162743_time.png\n",
      "[save_spectrum_plot] wrote: c:\\Users\\egorp\\Nextcloud\\code\\public_repos\\FFTimbre\\rendered_plots\\optimized_output_fm_voice-single2_da_mfcc_20250908-162743_spectrum.png\n",
      "[save_error_plot] wrote: c:\\Users\\egorp\\Nextcloud\\code\\public_repos\\FFTimbre\\rendered_plots\\optimized_output_fm_voice-single2_da_mfcc_20250908-162743_error.png\n"
     ]
    },
    {
     "data": {
      "application/vnd.jupyter.widget-view+json": {
       "model_id": "ddc39f0e6b9342be95b5ae6d5f2bbe68",
       "version_major": 2,
       "version_minor": 0
      },
      "text/plain": [
       "FM 4-osc BH → Mfcc:   0%|           0/500 [ETA: ?, Elapsed: 00:00]"
      ]
     },
     "metadata": {},
     "output_type": "display_data"
    },
    {
     "name": "stdout",
     "output_type": "stream",
     "text": [
      "[save_wav] wrote: c:\\Users\\egorp\\Nextcloud\\code\\public_repos\\FFTimbre\\rendered_audio\\optimized_output_fm_voice-single2_bh_mfcc_20250908-162924.wav\n",
      "TSV file was saved at: c:\\Users\\egorp\\Nextcloud\\code\\public_repos\\FFTimbre\\tsv\\final_values_fm_voice-single2_bh_mfcc_20250908-162924.tsv\n",
      "[save_time_plot] wrote: c:\\Users\\egorp\\Nextcloud\\code\\public_repos\\FFTimbre\\rendered_plots\\optimized_output_fm_voice-single2_bh_mfcc_20250908-162924_time.png\n",
      "[save_spectrum_plot] wrote: c:\\Users\\egorp\\Nextcloud\\code\\public_repos\\FFTimbre\\rendered_plots\\optimized_output_fm_voice-single2_bh_mfcc_20250908-162924_spectrum.png\n",
      "[save_error_plot] wrote: c:\\Users\\egorp\\Nextcloud\\code\\public_repos\\FFTimbre\\rendered_plots\\optimized_output_fm_voice-single2_bh_mfcc_20250908-162924_error.png\n"
     ]
    },
    {
     "data": {
      "application/vnd.jupyter.widget-view+json": {
       "model_id": "ef2bbd5cbf70426fa5f6e2eb7b8e54b2",
       "version_major": 2,
       "version_minor": 0
      },
      "text/plain": [
       "FM 4-osc DE → Itakura_Saito:   0%|           0/500 [ETA: ?, Elapsed: 00:00]"
      ]
     },
     "metadata": {},
     "output_type": "display_data"
    },
    {
     "name": "stdout",
     "output_type": "stream",
     "text": [
      "[save_wav] wrote: c:\\Users\\egorp\\Nextcloud\\code\\public_repos\\FFTimbre\\rendered_audio\\optimized_output_fm_voice-single2_de_itakura_saito_20250908-163051.wav\n",
      "TSV file was saved at: c:\\Users\\egorp\\Nextcloud\\code\\public_repos\\FFTimbre\\tsv\\final_values_fm_voice-single2_de_itakura_saito_20250908-163051.tsv\n",
      "[save_time_plot] wrote: c:\\Users\\egorp\\Nextcloud\\code\\public_repos\\FFTimbre\\rendered_plots\\optimized_output_fm_voice-single2_de_itakura_saito_20250908-163051_time.png\n",
      "[save_spectrum_plot] wrote: c:\\Users\\egorp\\Nextcloud\\code\\public_repos\\FFTimbre\\rendered_plots\\optimized_output_fm_voice-single2_de_itakura_saito_20250908-163051_spectrum.png\n",
      "[save_error_plot] wrote: c:\\Users\\egorp\\Nextcloud\\code\\public_repos\\FFTimbre\\rendered_plots\\optimized_output_fm_voice-single2_de_itakura_saito_20250908-163051_error.png\n"
     ]
    },
    {
     "data": {
      "application/vnd.jupyter.widget-view+json": {
       "model_id": "b3d24493a79c4f2f9d78101cb29048c1",
       "version_major": 2,
       "version_minor": 0
      },
      "text/plain": [
       "FM 4-osc DA → Itakura_Saito:   0%|           0/500 [ETA: ?, Elapsed: 00:00]"
      ]
     },
     "metadata": {},
     "output_type": "display_data"
    },
    {
     "name": "stdout",
     "output_type": "stream",
     "text": [
      "[save_wav] wrote: c:\\Users\\egorp\\Nextcloud\\code\\public_repos\\FFTimbre\\rendered_audio\\optimized_output_fm_voice-single2_da_itakura_saito_20250908-163200.wav\n",
      "TSV file was saved at: c:\\Users\\egorp\\Nextcloud\\code\\public_repos\\FFTimbre\\tsv\\final_values_fm_voice-single2_da_itakura_saito_20250908-163200.tsv\n",
      "[save_time_plot] wrote: c:\\Users\\egorp\\Nextcloud\\code\\public_repos\\FFTimbre\\rendered_plots\\optimized_output_fm_voice-single2_da_itakura_saito_20250908-163200_time.png\n",
      "[save_spectrum_plot] wrote: c:\\Users\\egorp\\Nextcloud\\code\\public_repos\\FFTimbre\\rendered_plots\\optimized_output_fm_voice-single2_da_itakura_saito_20250908-163200_spectrum.png\n",
      "[save_error_plot] wrote: c:\\Users\\egorp\\Nextcloud\\code\\public_repos\\FFTimbre\\rendered_plots\\optimized_output_fm_voice-single2_da_itakura_saito_20250908-163200_error.png\n"
     ]
    },
    {
     "data": {
      "application/vnd.jupyter.widget-view+json": {
       "model_id": "923de1603bb6407daaf2cd36c32c29b5",
       "version_major": 2,
       "version_minor": 0
      },
      "text/plain": [
       "FM 4-osc BH → Itakura_Saito:   0%|           0/500 [ETA: ?, Elapsed: 00:00]"
      ]
     },
     "metadata": {},
     "output_type": "display_data"
    },
    {
     "name": "stdout",
     "output_type": "stream",
     "text": [
      "[save_wav] wrote: c:\\Users\\egorp\\Nextcloud\\code\\public_repos\\FFTimbre\\rendered_audio\\optimized_output_fm_voice-single2_bh_itakura_saito_20250908-163235.wav\n",
      "TSV file was saved at: c:\\Users\\egorp\\Nextcloud\\code\\public_repos\\FFTimbre\\tsv\\final_values_fm_voice-single2_bh_itakura_saito_20250908-163235.tsv\n",
      "[save_time_plot] wrote: c:\\Users\\egorp\\Nextcloud\\code\\public_repos\\FFTimbre\\rendered_plots\\optimized_output_fm_voice-single2_bh_itakura_saito_20250908-163235_time.png\n",
      "[save_spectrum_plot] wrote: c:\\Users\\egorp\\Nextcloud\\code\\public_repos\\FFTimbre\\rendered_plots\\optimized_output_fm_voice-single2_bh_itakura_saito_20250908-163235_spectrum.png\n",
      "[save_error_plot] wrote: c:\\Users\\egorp\\Nextcloud\\code\\public_repos\\FFTimbre\\rendered_plots\\optimized_output_fm_voice-single2_bh_itakura_saito_20250908-163235_error.png\n"
     ]
    },
    {
     "data": {
      "application/vnd.jupyter.widget-view+json": {
       "model_id": "61ac842643ce41ef8114782810961c99",
       "version_major": 2,
       "version_minor": 0
      },
      "text/plain": [
       "FM 4-osc DE → Spectral_Convergence:   0%|           0/500 [ETA: ?, Elapsed: 00:00]"
      ]
     },
     "metadata": {},
     "output_type": "display_data"
    },
    {
     "name": "stdout",
     "output_type": "stream",
     "text": [
      "[save_wav] wrote: c:\\Users\\egorp\\Nextcloud\\code\\public_repos\\FFTimbre\\rendered_audio\\optimized_output_fm_voice-single2_de_spectral_convergence_20250908-163450.wav\n",
      "TSV file was saved at: c:\\Users\\egorp\\Nextcloud\\code\\public_repos\\FFTimbre\\tsv\\final_values_fm_voice-single2_de_spectral_convergence_20250908-163450.tsv\n",
      "[save_time_plot] wrote: c:\\Users\\egorp\\Nextcloud\\code\\public_repos\\FFTimbre\\rendered_plots\\optimized_output_fm_voice-single2_de_spectral_convergence_20250908-163450_time.png\n",
      "[save_spectrum_plot] wrote: c:\\Users\\egorp\\Nextcloud\\code\\public_repos\\FFTimbre\\rendered_plots\\optimized_output_fm_voice-single2_de_spectral_convergence_20250908-163450_spectrum.png\n",
      "[save_error_plot] wrote: c:\\Users\\egorp\\Nextcloud\\code\\public_repos\\FFTimbre\\rendered_plots\\optimized_output_fm_voice-single2_de_spectral_convergence_20250908-163450_error.png\n"
     ]
    },
    {
     "data": {
      "application/vnd.jupyter.widget-view+json": {
       "model_id": "49faa44c656a4977b246f637d32f4943",
       "version_major": 2,
       "version_minor": 0
      },
      "text/plain": [
       "FM 4-osc DA → Spectral_Convergence:   0%|           0/500 [ETA: ?, Elapsed: 00:00]"
      ]
     },
     "metadata": {},
     "output_type": "display_data"
    },
    {
     "name": "stdout",
     "output_type": "stream",
     "text": [
      "[save_wav] wrote: c:\\Users\\egorp\\Nextcloud\\code\\public_repos\\FFTimbre\\rendered_audio\\optimized_output_fm_voice-single2_da_spectral_convergence_20250908-163520.wav\n",
      "TSV file was saved at: c:\\Users\\egorp\\Nextcloud\\code\\public_repos\\FFTimbre\\tsv\\final_values_fm_voice-single2_da_spectral_convergence_20250908-163520.tsv\n",
      "[save_time_plot] wrote: c:\\Users\\egorp\\Nextcloud\\code\\public_repos\\FFTimbre\\rendered_plots\\optimized_output_fm_voice-single2_da_spectral_convergence_20250908-163520_time.png\n",
      "[save_spectrum_plot] wrote: c:\\Users\\egorp\\Nextcloud\\code\\public_repos\\FFTimbre\\rendered_plots\\optimized_output_fm_voice-single2_da_spectral_convergence_20250908-163520_spectrum.png\n",
      "[save_error_plot] wrote: c:\\Users\\egorp\\Nextcloud\\code\\public_repos\\FFTimbre\\rendered_plots\\optimized_output_fm_voice-single2_da_spectral_convergence_20250908-163520_error.png\n"
     ]
    },
    {
     "data": {
      "application/vnd.jupyter.widget-view+json": {
       "model_id": "5442ca5207c34f2387ceae1fdf9ac8af",
       "version_major": 2,
       "version_minor": 0
      },
      "text/plain": [
       "FM 4-osc BH → Spectral_Convergence:   0%|           0/500 [ETA: ?, Elapsed: 00:00]"
      ]
     },
     "metadata": {},
     "output_type": "display_data"
    },
    {
     "name": "stdout",
     "output_type": "stream",
     "text": [
      "[save_wav] wrote: c:\\Users\\egorp\\Nextcloud\\code\\public_repos\\FFTimbre\\rendered_audio\\optimized_output_fm_voice-single2_bh_spectral_convergence_20250908-163544.wav\n",
      "TSV file was saved at: c:\\Users\\egorp\\Nextcloud\\code\\public_repos\\FFTimbre\\tsv\\final_values_fm_voice-single2_bh_spectral_convergence_20250908-163544.tsv\n",
      "[save_time_plot] wrote: c:\\Users\\egorp\\Nextcloud\\code\\public_repos\\FFTimbre\\rendered_plots\\optimized_output_fm_voice-single2_bh_spectral_convergence_20250908-163544_time.png\n",
      "[save_spectrum_plot] wrote: c:\\Users\\egorp\\Nextcloud\\code\\public_repos\\FFTimbre\\rendered_plots\\optimized_output_fm_voice-single2_bh_spectral_convergence_20250908-163544_spectrum.png\n",
      "[save_error_plot] wrote: c:\\Users\\egorp\\Nextcloud\\code\\public_repos\\FFTimbre\\rendered_plots\\optimized_output_fm_voice-single2_bh_spectral_convergence_20250908-163544_error.png\n"
     ]
    },
    {
     "data": {
      "application/vnd.jupyter.widget-view+json": {
       "model_id": "a5e1a735296c4f9bbb96da3a1d8251df",
       "version_major": 2,
       "version_minor": 0
      },
      "text/plain": [
       "FM 4-osc DE → Cosine:   0%|           0/500 [ETA: ?, Elapsed: 00:00]"
      ]
     },
     "metadata": {},
     "output_type": "display_data"
    },
    {
     "name": "stdout",
     "output_type": "stream",
     "text": [
      "[save_wav] wrote: c:\\Users\\egorp\\Nextcloud\\code\\public_repos\\FFTimbre\\rendered_audio\\optimized_output_fm_voice-single2_de_cosine_20250908-163809.wav\n",
      "TSV file was saved at: c:\\Users\\egorp\\Nextcloud\\code\\public_repos\\FFTimbre\\tsv\\final_values_fm_voice-single2_de_cosine_20250908-163809.tsv\n",
      "[save_time_plot] wrote: c:\\Users\\egorp\\Nextcloud\\code\\public_repos\\FFTimbre\\rendered_plots\\optimized_output_fm_voice-single2_de_cosine_20250908-163809_time.png\n",
      "[save_spectrum_plot] wrote: c:\\Users\\egorp\\Nextcloud\\code\\public_repos\\FFTimbre\\rendered_plots\\optimized_output_fm_voice-single2_de_cosine_20250908-163809_spectrum.png\n",
      "[save_error_plot] wrote: c:\\Users\\egorp\\Nextcloud\\code\\public_repos\\FFTimbre\\rendered_plots\\optimized_output_fm_voice-single2_de_cosine_20250908-163809_error.png\n"
     ]
    },
    {
     "data": {
      "application/vnd.jupyter.widget-view+json": {
       "model_id": "477a489f8d0146ff952c35e2f187cfe4",
       "version_major": 2,
       "version_minor": 0
      },
      "text/plain": [
       "FM 4-osc DA → Cosine:   0%|           0/500 [ETA: ?, Elapsed: 00:00]"
      ]
     },
     "metadata": {},
     "output_type": "display_data"
    },
    {
     "name": "stdout",
     "output_type": "stream",
     "text": [
      "[save_wav] wrote: c:\\Users\\egorp\\Nextcloud\\code\\public_repos\\FFTimbre\\rendered_audio\\optimized_output_fm_voice-single2_da_cosine_20250908-163842.wav\n",
      "TSV file was saved at: c:\\Users\\egorp\\Nextcloud\\code\\public_repos\\FFTimbre\\tsv\\final_values_fm_voice-single2_da_cosine_20250908-163842.tsv\n",
      "[save_time_plot] wrote: c:\\Users\\egorp\\Nextcloud\\code\\public_repos\\FFTimbre\\rendered_plots\\optimized_output_fm_voice-single2_da_cosine_20250908-163842_time.png\n",
      "[save_spectrum_plot] wrote: c:\\Users\\egorp\\Nextcloud\\code\\public_repos\\FFTimbre\\rendered_plots\\optimized_output_fm_voice-single2_da_cosine_20250908-163842_spectrum.png\n",
      "[save_error_plot] wrote: c:\\Users\\egorp\\Nextcloud\\code\\public_repos\\FFTimbre\\rendered_plots\\optimized_output_fm_voice-single2_da_cosine_20250908-163842_error.png\n"
     ]
    },
    {
     "data": {
      "application/vnd.jupyter.widget-view+json": {
       "model_id": "680997018bcc45cbab99044f7e574115",
       "version_major": 2,
       "version_minor": 0
      },
      "text/plain": [
       "FM 4-osc BH → Cosine:   0%|           0/500 [ETA: ?, Elapsed: 00:00]"
      ]
     },
     "metadata": {},
     "output_type": "display_data"
    },
    {
     "name": "stderr",
     "output_type": "stream",
     "text": [
      "c:\\Users\\egorp\\miniconda3\\envs\\py3124t\\Lib\\site-packages\\scipy\\spatial\\distance.py:647: RuntimeWarning: invalid value encountered in divide\n",
      "  dist = 1.0 - uv / math.sqrt(uu * vv)\n"
     ]
    },
    {
     "name": "stdout",
     "output_type": "stream",
     "text": [
      "[save_wav] wrote: c:\\Users\\egorp\\Nextcloud\\code\\public_repos\\FFTimbre\\rendered_audio\\optimized_output_fm_voice-single2_bh_cosine_20250908-163937.wav\n",
      "TSV file was saved at: c:\\Users\\egorp\\Nextcloud\\code\\public_repos\\FFTimbre\\tsv\\final_values_fm_voice-single2_bh_cosine_20250908-163937.tsv\n",
      "[save_time_plot] wrote: c:\\Users\\egorp\\Nextcloud\\code\\public_repos\\FFTimbre\\rendered_plots\\optimized_output_fm_voice-single2_bh_cosine_20250908-163937_time.png\n",
      "[save_spectrum_plot] wrote: c:\\Users\\egorp\\Nextcloud\\code\\public_repos\\FFTimbre\\rendered_plots\\optimized_output_fm_voice-single2_bh_cosine_20250908-163937_spectrum.png\n",
      "[save_error_plot] wrote: c:\\Users\\egorp\\Nextcloud\\code\\public_repos\\FFTimbre\\rendered_plots\\optimized_output_fm_voice-single2_bh_cosine_20250908-163937_error.png\n"
     ]
    },
    {
     "data": {
      "application/vnd.jupyter.widget-view+json": {
       "model_id": "c5b3e2685de54c3fbd46941f57b90d58",
       "version_major": 2,
       "version_minor": 0
      },
      "text/plain": [
       "FM 4-osc DE → Euclidean:   0%|           0/500 [ETA: ?, Elapsed: 00:00]"
      ]
     },
     "metadata": {},
     "output_type": "display_data"
    },
    {
     "name": "stdout",
     "output_type": "stream",
     "text": [
      "[save_wav] wrote: c:\\Users\\egorp\\Nextcloud\\code\\public_repos\\FFTimbre\\rendered_audio\\optimized_output_fm_voice-single2_de_euclidean_20250908-164147.wav\n",
      "TSV file was saved at: c:\\Users\\egorp\\Nextcloud\\code\\public_repos\\FFTimbre\\tsv\\final_values_fm_voice-single2_de_euclidean_20250908-164147.tsv\n",
      "[save_time_plot] wrote: c:\\Users\\egorp\\Nextcloud\\code\\public_repos\\FFTimbre\\rendered_plots\\optimized_output_fm_voice-single2_de_euclidean_20250908-164147_time.png\n",
      "[save_spectrum_plot] wrote: c:\\Users\\egorp\\Nextcloud\\code\\public_repos\\FFTimbre\\rendered_plots\\optimized_output_fm_voice-single2_de_euclidean_20250908-164147_spectrum.png\n",
      "[save_error_plot] wrote: c:\\Users\\egorp\\Nextcloud\\code\\public_repos\\FFTimbre\\rendered_plots\\optimized_output_fm_voice-single2_de_euclidean_20250908-164147_error.png\n"
     ]
    },
    {
     "data": {
      "application/vnd.jupyter.widget-view+json": {
       "model_id": "477721265d5b4d68813b4d088b6345e3",
       "version_major": 2,
       "version_minor": 0
      },
      "text/plain": [
       "FM 4-osc DA → Euclidean:   0%|           0/500 [ETA: ?, Elapsed: 00:00]"
      ]
     },
     "metadata": {},
     "output_type": "display_data"
    },
    {
     "name": "stdout",
     "output_type": "stream",
     "text": [
      "[save_wav] wrote: c:\\Users\\egorp\\Nextcloud\\code\\public_repos\\FFTimbre\\rendered_audio\\optimized_output_fm_voice-single2_da_euclidean_20250908-164212.wav\n",
      "TSV file was saved at: c:\\Users\\egorp\\Nextcloud\\code\\public_repos\\FFTimbre\\tsv\\final_values_fm_voice-single2_da_euclidean_20250908-164212.tsv\n",
      "[save_time_plot] wrote: c:\\Users\\egorp\\Nextcloud\\code\\public_repos\\FFTimbre\\rendered_plots\\optimized_output_fm_voice-single2_da_euclidean_20250908-164212_time.png\n",
      "[save_spectrum_plot] wrote: c:\\Users\\egorp\\Nextcloud\\code\\public_repos\\FFTimbre\\rendered_plots\\optimized_output_fm_voice-single2_da_euclidean_20250908-164212_spectrum.png\n",
      "[save_error_plot] wrote: c:\\Users\\egorp\\Nextcloud\\code\\public_repos\\FFTimbre\\rendered_plots\\optimized_output_fm_voice-single2_da_euclidean_20250908-164212_error.png\n"
     ]
    },
    {
     "data": {
      "application/vnd.jupyter.widget-view+json": {
       "model_id": "58b276ec377e443095198539d694c4ac",
       "version_major": 2,
       "version_minor": 0
      },
      "text/plain": [
       "FM 4-osc BH → Euclidean:   0%|           0/500 [ETA: ?, Elapsed: 00:00]"
      ]
     },
     "metadata": {},
     "output_type": "display_data"
    },
    {
     "name": "stdout",
     "output_type": "stream",
     "text": [
      "[save_wav] wrote: c:\\Users\\egorp\\Nextcloud\\code\\public_repos\\FFTimbre\\rendered_audio\\optimized_output_fm_voice-single2_bh_euclidean_20250908-164234.wav\n",
      "TSV file was saved at: c:\\Users\\egorp\\Nextcloud\\code\\public_repos\\FFTimbre\\tsv\\final_values_fm_voice-single2_bh_euclidean_20250908-164234.tsv\n",
      "[save_time_plot] wrote: c:\\Users\\egorp\\Nextcloud\\code\\public_repos\\FFTimbre\\rendered_plots\\optimized_output_fm_voice-single2_bh_euclidean_20250908-164234_time.png\n",
      "[save_spectrum_plot] wrote: c:\\Users\\egorp\\Nextcloud\\code\\public_repos\\FFTimbre\\rendered_plots\\optimized_output_fm_voice-single2_bh_euclidean_20250908-164234_spectrum.png\n",
      "[save_error_plot] wrote: c:\\Users\\egorp\\Nextcloud\\code\\public_repos\\FFTimbre\\rendered_plots\\optimized_output_fm_voice-single2_bh_euclidean_20250908-164234_error.png\n"
     ]
    },
    {
     "data": {
      "application/vnd.jupyter.widget-view+json": {
       "model_id": "cc310c3f56054f698e2d1b1fbc75f412",
       "version_major": 2,
       "version_minor": 0
      },
      "text/plain": [
       "FM 4-osc DE → Manhattan:   0%|           0/500 [ETA: ?, Elapsed: 00:00]"
      ]
     },
     "metadata": {},
     "output_type": "display_data"
    },
    {
     "name": "stdout",
     "output_type": "stream",
     "text": [
      "[save_wav] wrote: c:\\Users\\egorp\\Nextcloud\\code\\public_repos\\FFTimbre\\rendered_audio\\optimized_output_fm_voice-single2_de_manhattan_20250908-164307.wav\n",
      "TSV file was saved at: c:\\Users\\egorp\\Nextcloud\\code\\public_repos\\FFTimbre\\tsv\\final_values_fm_voice-single2_de_manhattan_20250908-164307.tsv\n",
      "[save_time_plot] wrote: c:\\Users\\egorp\\Nextcloud\\code\\public_repos\\FFTimbre\\rendered_plots\\optimized_output_fm_voice-single2_de_manhattan_20250908-164307_time.png\n",
      "[save_spectrum_plot] wrote: c:\\Users\\egorp\\Nextcloud\\code\\public_repos\\FFTimbre\\rendered_plots\\optimized_output_fm_voice-single2_de_manhattan_20250908-164307_spectrum.png\n",
      "[save_error_plot] wrote: c:\\Users\\egorp\\Nextcloud\\code\\public_repos\\FFTimbre\\rendered_plots\\optimized_output_fm_voice-single2_de_manhattan_20250908-164307_error.png\n"
     ]
    },
    {
     "data": {
      "application/vnd.jupyter.widget-view+json": {
       "model_id": "bc5f7d2fc50e4789888c4884250d2ff9",
       "version_major": 2,
       "version_minor": 0
      },
      "text/plain": [
       "FM 4-osc DA → Manhattan:   0%|           0/500 [ETA: ?, Elapsed: 00:00]"
      ]
     },
     "metadata": {},
     "output_type": "display_data"
    },
    {
     "name": "stdout",
     "output_type": "stream",
     "text": [
      "[save_wav] wrote: c:\\Users\\egorp\\Nextcloud\\code\\public_repos\\FFTimbre\\rendered_audio\\optimized_output_fm_voice-single2_da_manhattan_20250908-164329.wav\n",
      "TSV file was saved at: c:\\Users\\egorp\\Nextcloud\\code\\public_repos\\FFTimbre\\tsv\\final_values_fm_voice-single2_da_manhattan_20250908-164329.tsv\n",
      "[save_time_plot] wrote: c:\\Users\\egorp\\Nextcloud\\code\\public_repos\\FFTimbre\\rendered_plots\\optimized_output_fm_voice-single2_da_manhattan_20250908-164329_time.png\n",
      "[save_spectrum_plot] wrote: c:\\Users\\egorp\\Nextcloud\\code\\public_repos\\FFTimbre\\rendered_plots\\optimized_output_fm_voice-single2_da_manhattan_20250908-164329_spectrum.png\n",
      "[save_error_plot] wrote: c:\\Users\\egorp\\Nextcloud\\code\\public_repos\\FFTimbre\\rendered_plots\\optimized_output_fm_voice-single2_da_manhattan_20250908-164329_error.png\n"
     ]
    },
    {
     "data": {
      "application/vnd.jupyter.widget-view+json": {
       "model_id": "80ea8823fd654d459bee6e6094c52a62",
       "version_major": 2,
       "version_minor": 0
      },
      "text/plain": [
       "FM 4-osc BH → Manhattan:   0%|           0/500 [ETA: ?, Elapsed: 00:00]"
      ]
     },
     "metadata": {},
     "output_type": "display_data"
    },
    {
     "name": "stdout",
     "output_type": "stream",
     "text": [
      "[save_wav] wrote: c:\\Users\\egorp\\Nextcloud\\code\\public_repos\\FFTimbre\\rendered_audio\\optimized_output_fm_voice-single2_bh_manhattan_20250908-164357.wav\n",
      "TSV file was saved at: c:\\Users\\egorp\\Nextcloud\\code\\public_repos\\FFTimbre\\tsv\\final_values_fm_voice-single2_bh_manhattan_20250908-164357.tsv\n",
      "[save_time_plot] wrote: c:\\Users\\egorp\\Nextcloud\\code\\public_repos\\FFTimbre\\rendered_plots\\optimized_output_fm_voice-single2_bh_manhattan_20250908-164357_time.png\n",
      "[save_spectrum_plot] wrote: c:\\Users\\egorp\\Nextcloud\\code\\public_repos\\FFTimbre\\rendered_plots\\optimized_output_fm_voice-single2_bh_manhattan_20250908-164357_spectrum.png\n",
      "[save_error_plot] wrote: c:\\Users\\egorp\\Nextcloud\\code\\public_repos\\FFTimbre\\rendered_plots\\optimized_output_fm_voice-single2_bh_manhattan_20250908-164357_error.png\n"
     ]
    },
    {
     "data": {
      "application/vnd.jupyter.widget-view+json": {
       "model_id": "106ad00d53234019a3280e197b6a827b",
       "version_major": 2,
       "version_minor": 0
      },
      "text/plain": [
       "FM 4-osc DE → Kl:   0%|           0/500 [ETA: ?, Elapsed: 00:00]"
      ]
     },
     "metadata": {},
     "output_type": "display_data"
    },
    {
     "name": "stdout",
     "output_type": "stream",
     "text": [
      "[save_wav] wrote: c:\\Users\\egorp\\Nextcloud\\code\\public_repos\\FFTimbre\\rendered_audio\\optimized_output_fm_voice-single2_de_kl_20250908-164527.wav\n",
      "TSV file was saved at: c:\\Users\\egorp\\Nextcloud\\code\\public_repos\\FFTimbre\\tsv\\final_values_fm_voice-single2_de_kl_20250908-164527.tsv\n",
      "[save_time_plot] wrote: c:\\Users\\egorp\\Nextcloud\\code\\public_repos\\FFTimbre\\rendered_plots\\optimized_output_fm_voice-single2_de_kl_20250908-164527_time.png\n",
      "[save_spectrum_plot] wrote: c:\\Users\\egorp\\Nextcloud\\code\\public_repos\\FFTimbre\\rendered_plots\\optimized_output_fm_voice-single2_de_kl_20250908-164527_spectrum.png\n",
      "[save_error_plot] wrote: c:\\Users\\egorp\\Nextcloud\\code\\public_repos\\FFTimbre\\rendered_plots\\optimized_output_fm_voice-single2_de_kl_20250908-164527_error.png\n"
     ]
    },
    {
     "data": {
      "application/vnd.jupyter.widget-view+json": {
       "model_id": "957f6e8d440841bfba92e6b58a245452",
       "version_major": 2,
       "version_minor": 0
      },
      "text/plain": [
       "FM 4-osc DA → Kl:   0%|           0/500 [ETA: ?, Elapsed: 00:00]"
      ]
     },
     "metadata": {},
     "output_type": "display_data"
    },
    {
     "name": "stdout",
     "output_type": "stream",
     "text": [
      "[save_wav] wrote: c:\\Users\\egorp\\Nextcloud\\code\\public_repos\\FFTimbre\\rendered_audio\\optimized_output_fm_voice-single2_da_kl_20250908-164557.wav\n",
      "TSV file was saved at: c:\\Users\\egorp\\Nextcloud\\code\\public_repos\\FFTimbre\\tsv\\final_values_fm_voice-single2_da_kl_20250908-164557.tsv\n",
      "[save_time_plot] wrote: c:\\Users\\egorp\\Nextcloud\\code\\public_repos\\FFTimbre\\rendered_plots\\optimized_output_fm_voice-single2_da_kl_20250908-164557_time.png\n",
      "[save_spectrum_plot] wrote: c:\\Users\\egorp\\Nextcloud\\code\\public_repos\\FFTimbre\\rendered_plots\\optimized_output_fm_voice-single2_da_kl_20250908-164557_spectrum.png\n",
      "[save_error_plot] wrote: c:\\Users\\egorp\\Nextcloud\\code\\public_repos\\FFTimbre\\rendered_plots\\optimized_output_fm_voice-single2_da_kl_20250908-164557_error.png\n"
     ]
    },
    {
     "data": {
      "application/vnd.jupyter.widget-view+json": {
       "model_id": "6f1ca6ec89a942bc9764f8cc58eb2a4c",
       "version_major": 2,
       "version_minor": 0
      },
      "text/plain": [
       "FM 4-osc BH → Kl:   0%|           0/500 [ETA: ?, Elapsed: 00:00]"
      ]
     },
     "metadata": {},
     "output_type": "display_data"
    },
    {
     "name": "stdout",
     "output_type": "stream",
     "text": [
      "[save_wav] wrote: c:\\Users\\egorp\\Nextcloud\\code\\public_repos\\FFTimbre\\rendered_audio\\optimized_output_fm_voice-single2_bh_kl_20250908-164636.wav\n",
      "TSV file was saved at: c:\\Users\\egorp\\Nextcloud\\code\\public_repos\\FFTimbre\\tsv\\final_values_fm_voice-single2_bh_kl_20250908-164636.tsv\n",
      "[save_time_plot] wrote: c:\\Users\\egorp\\Nextcloud\\code\\public_repos\\FFTimbre\\rendered_plots\\optimized_output_fm_voice-single2_bh_kl_20250908-164636_time.png\n",
      "[save_spectrum_plot] wrote: c:\\Users\\egorp\\Nextcloud\\code\\public_repos\\FFTimbre\\rendered_plots\\optimized_output_fm_voice-single2_bh_kl_20250908-164636_spectrum.png\n",
      "[save_error_plot] wrote: c:\\Users\\egorp\\Nextcloud\\code\\public_repos\\FFTimbre\\rendered_plots\\optimized_output_fm_voice-single2_bh_kl_20250908-164636_error.png\n"
     ]
    },
    {
     "data": {
      "text/html": [
       "<div>\n",
       "<style scoped>\n",
       "    .dataframe tbody tr th:only-of-type {\n",
       "        vertical-align: middle;\n",
       "    }\n",
       "\n",
       "    .dataframe tbody tr th {\n",
       "        vertical-align: top;\n",
       "    }\n",
       "\n",
       "    .dataframe thead th {\n",
       "        text-align: right;\n",
       "    }\n",
       "</style>\n",
       "<table border=\"1\" class=\"dataframe\">\n",
       "  <thead>\n",
       "    <tr style=\"text-align: right;\">\n",
       "      <th></th>\n",
       "      <th>method</th>\n",
       "      <th>metric</th>\n",
       "      <th>best</th>\n",
       "      <th>wav_path</th>\n",
       "      <th>tsv_path</th>\n",
       "      <th>plots</th>\n",
       "    </tr>\n",
       "  </thead>\n",
       "  <tbody>\n",
       "    <tr>\n",
       "      <th>12</th>\n",
       "      <td>de</td>\n",
       "      <td>cosine</td>\n",
       "      <td>9.160420e-02</td>\n",
       "      <td>rendered_audio\\optimized_output_fm_voice-singl...</td>\n",
       "      <td>tsv/final_values_fm_voice-single2_de_cosine_20...</td>\n",
       "      <td>{'time': 'rendered_plots\\optimized_output_fm_v...</td>\n",
       "    </tr>\n",
       "    <tr>\n",
       "      <th>13</th>\n",
       "      <td>da</td>\n",
       "      <td>cosine</td>\n",
       "      <td>4.867485e-01</td>\n",
       "      <td>rendered_audio\\optimized_output_fm_voice-singl...</td>\n",
       "      <td>tsv/final_values_fm_voice-single2_da_cosine_20...</td>\n",
       "      <td>{'time': 'rendered_plots\\optimized_output_fm_v...</td>\n",
       "    </tr>\n",
       "    <tr>\n",
       "      <th>14</th>\n",
       "      <td>bh</td>\n",
       "      <td>cosine</td>\n",
       "      <td>9.371461e-01</td>\n",
       "      <td>rendered_audio\\optimized_output_fm_voice-singl...</td>\n",
       "      <td>tsv/final_values_fm_voice-single2_bh_cosine_20...</td>\n",
       "      <td>{'time': 'rendered_plots\\optimized_output_fm_v...</td>\n",
       "    </tr>\n",
       "    <tr>\n",
       "      <th>17</th>\n",
       "      <td>bh</td>\n",
       "      <td>euclidean</td>\n",
       "      <td>2.500542e+00</td>\n",
       "      <td>rendered_audio\\optimized_output_fm_voice-singl...</td>\n",
       "      <td>tsv/final_values_fm_voice-single2_bh_euclidean...</td>\n",
       "      <td>{'time': 'rendered_plots\\optimized_output_fm_v...</td>\n",
       "    </tr>\n",
       "    <tr>\n",
       "      <th>15</th>\n",
       "      <td>de</td>\n",
       "      <td>euclidean</td>\n",
       "      <td>5.755499e+04</td>\n",
       "      <td>rendered_audio\\optimized_output_fm_voice-singl...</td>\n",
       "      <td>tsv/final_values_fm_voice-single2_de_euclidean...</td>\n",
       "      <td>{'time': 'rendered_plots\\optimized_output_fm_v...</td>\n",
       "    </tr>\n",
       "    <tr>\n",
       "      <th>16</th>\n",
       "      <td>da</td>\n",
       "      <td>euclidean</td>\n",
       "      <td>5.907275e+04</td>\n",
       "      <td>rendered_audio\\optimized_output_fm_voice-singl...</td>\n",
       "      <td>tsv/final_values_fm_voice-single2_da_euclidean...</td>\n",
       "      <td>{'time': 'rendered_plots\\optimized_output_fm_v...</td>\n",
       "    </tr>\n",
       "    <tr>\n",
       "      <th>6</th>\n",
       "      <td>de</td>\n",
       "      <td>itakura_saito</td>\n",
       "      <td>1.432001e+06</td>\n",
       "      <td>rendered_audio\\optimized_output_fm_voice-singl...</td>\n",
       "      <td>tsv/final_values_fm_voice-single2_de_itakura_s...</td>\n",
       "      <td>{'time': 'rendered_plots\\optimized_output_fm_v...</td>\n",
       "    </tr>\n",
       "    <tr>\n",
       "      <th>7</th>\n",
       "      <td>da</td>\n",
       "      <td>itakura_saito</td>\n",
       "      <td>1.581409e+06</td>\n",
       "      <td>rendered_audio\\optimized_output_fm_voice-singl...</td>\n",
       "      <td>tsv/final_values_fm_voice-single2_da_itakura_s...</td>\n",
       "      <td>{'time': 'rendered_plots\\optimized_output_fm_v...</td>\n",
       "    </tr>\n",
       "    <tr>\n",
       "      <th>8</th>\n",
       "      <td>bh</td>\n",
       "      <td>itakura_saito</td>\n",
       "      <td>1.949517e+06</td>\n",
       "      <td>rendered_audio\\optimized_output_fm_voice-singl...</td>\n",
       "      <td>tsv/final_values_fm_voice-single2_bh_itakura_s...</td>\n",
       "      <td>{'time': 'rendered_plots\\optimized_output_fm_v...</td>\n",
       "    </tr>\n",
       "    <tr>\n",
       "      <th>21</th>\n",
       "      <td>de</td>\n",
       "      <td>kl</td>\n",
       "      <td>1.028224e+00</td>\n",
       "      <td>rendered_audio\\optimized_output_fm_voice-singl...</td>\n",
       "      <td>tsv/final_values_fm_voice-single2_de_kl_202509...</td>\n",
       "      <td>{'time': 'rendered_plots\\optimized_output_fm_v...</td>\n",
       "    </tr>\n",
       "    <tr>\n",
       "      <th>22</th>\n",
       "      <td>da</td>\n",
       "      <td>kl</td>\n",
       "      <td>2.558008e+00</td>\n",
       "      <td>rendered_audio\\optimized_output_fm_voice-singl...</td>\n",
       "      <td>tsv/final_values_fm_voice-single2_da_kl_202509...</td>\n",
       "      <td>{'time': 'rendered_plots\\optimized_output_fm_v...</td>\n",
       "    </tr>\n",
       "    <tr>\n",
       "      <th>23</th>\n",
       "      <td>bh</td>\n",
       "      <td>kl</td>\n",
       "      <td>6.945273e+00</td>\n",
       "      <td>rendered_audio\\optimized_output_fm_voice-singl...</td>\n",
       "      <td>tsv/final_values_fm_voice-single2_bh_kl_202509...</td>\n",
       "      <td>{'time': 'rendered_plots\\optimized_output_fm_v...</td>\n",
       "    </tr>\n",
       "    <tr>\n",
       "      <th>20</th>\n",
       "      <td>bh</td>\n",
       "      <td>manhattan</td>\n",
       "      <td>1.189020e+01</td>\n",
       "      <td>rendered_audio\\optimized_output_fm_voice-singl...</td>\n",
       "      <td>tsv/final_values_fm_voice-single2_bh_manhattan...</td>\n",
       "      <td>{'time': 'rendered_plots\\optimized_output_fm_v...</td>\n",
       "    </tr>\n",
       "    <tr>\n",
       "      <th>18</th>\n",
       "      <td>de</td>\n",
       "      <td>manhattan</td>\n",
       "      <td>1.484311e+05</td>\n",
       "      <td>rendered_audio\\optimized_output_fm_voice-singl...</td>\n",
       "      <td>tsv/final_values_fm_voice-single2_de_manhattan...</td>\n",
       "      <td>{'time': 'rendered_plots\\optimized_output_fm_v...</td>\n",
       "    </tr>\n",
       "    <tr>\n",
       "      <th>19</th>\n",
       "      <td>da</td>\n",
       "      <td>manhattan</td>\n",
       "      <td>1.486229e+05</td>\n",
       "      <td>rendered_audio\\optimized_output_fm_voice-singl...</td>\n",
       "      <td>tsv/final_values_fm_voice-single2_da_manhattan...</td>\n",
       "      <td>{'time': 'rendered_plots\\optimized_output_fm_v...</td>\n",
       "    </tr>\n",
       "    <tr>\n",
       "      <th>3</th>\n",
       "      <td>de</td>\n",
       "      <td>mfcc</td>\n",
       "      <td>3.163781e+01</td>\n",
       "      <td>rendered_audio\\optimized_output_fm_voice-singl...</td>\n",
       "      <td>tsv/final_values_fm_voice-single2_de_mfcc_2025...</td>\n",
       "      <td>{'time': 'rendered_plots\\optimized_output_fm_v...</td>\n",
       "    </tr>\n",
       "    <tr>\n",
       "      <th>4</th>\n",
       "      <td>da</td>\n",
       "      <td>mfcc</td>\n",
       "      <td>3.803020e+01</td>\n",
       "      <td>rendered_audio\\optimized_output_fm_voice-singl...</td>\n",
       "      <td>tsv/final_values_fm_voice-single2_da_mfcc_2025...</td>\n",
       "      <td>{'time': 'rendered_plots\\optimized_output_fm_v...</td>\n",
       "    </tr>\n",
       "    <tr>\n",
       "      <th>5</th>\n",
       "      <td>bh</td>\n",
       "      <td>mfcc</td>\n",
       "      <td>2.197237e+02</td>\n",
       "      <td>rendered_audio\\optimized_output_fm_voice-singl...</td>\n",
       "      <td>tsv/final_values_fm_voice-single2_bh_mfcc_2025...</td>\n",
       "      <td>{'time': 'rendered_plots\\optimized_output_fm_v...</td>\n",
       "    </tr>\n",
       "    <tr>\n",
       "      <th>0</th>\n",
       "      <td>de</td>\n",
       "      <td>pearson</td>\n",
       "      <td>6.889713e-02</td>\n",
       "      <td>rendered_audio\\optimized_output_fm_voice-singl...</td>\n",
       "      <td>tsv/final_values_fm_voice-single2_de_pearson_2...</td>\n",
       "      <td>{'time': 'rendered_plots\\optimized_output_fm_v...</td>\n",
       "    </tr>\n",
       "    <tr>\n",
       "      <th>1</th>\n",
       "      <td>da</td>\n",
       "      <td>pearson</td>\n",
       "      <td>1.389151e-01</td>\n",
       "      <td>rendered_audio\\optimized_output_fm_voice-singl...</td>\n",
       "      <td>tsv/final_values_fm_voice-single2_da_pearson_2...</td>\n",
       "      <td>{'time': 'rendered_plots\\optimized_output_fm_v...</td>\n",
       "    </tr>\n",
       "    <tr>\n",
       "      <th>2</th>\n",
       "      <td>bh</td>\n",
       "      <td>pearson</td>\n",
       "      <td>9.843692e-01</td>\n",
       "      <td>rendered_audio\\optimized_output_fm_voice-singl...</td>\n",
       "      <td>tsv/final_values_fm_voice-single2_bh_pearson_2...</td>\n",
       "      <td>{'time': 'rendered_plots\\optimized_output_fm_v...</td>\n",
       "    </tr>\n",
       "    <tr>\n",
       "      <th>11</th>\n",
       "      <td>bh</td>\n",
       "      <td>spectral_convergence</td>\n",
       "      <td>1.000000e+00</td>\n",
       "      <td>rendered_audio\\optimized_output_fm_voice-singl...</td>\n",
       "      <td>tsv/final_values_fm_voice-single2_bh_spectral_...</td>\n",
       "      <td>{'time': 'rendered_plots\\optimized_output_fm_v...</td>\n",
       "    </tr>\n",
       "    <tr>\n",
       "      <th>9</th>\n",
       "      <td>de</td>\n",
       "      <td>spectral_convergence</td>\n",
       "      <td>2.301700e+04</td>\n",
       "      <td>rendered_audio\\optimized_output_fm_voice-singl...</td>\n",
       "      <td>tsv/final_values_fm_voice-single2_de_spectral_...</td>\n",
       "      <td>{'time': 'rendered_plots\\optimized_output_fm_v...</td>\n",
       "    </tr>\n",
       "    <tr>\n",
       "      <th>10</th>\n",
       "      <td>da</td>\n",
       "      <td>spectral_convergence</td>\n",
       "      <td>2.317410e+04</td>\n",
       "      <td>rendered_audio\\optimized_output_fm_voice-singl...</td>\n",
       "      <td>tsv/final_values_fm_voice-single2_da_spectral_...</td>\n",
       "      <td>{'time': 'rendered_plots\\optimized_output_fm_v...</td>\n",
       "    </tr>\n",
       "  </tbody>\n",
       "</table>\n",
       "</div>"
      ],
      "text/plain": [
       "   method                metric          best  \\\n",
       "12     de                cosine  9.160420e-02   \n",
       "13     da                cosine  4.867485e-01   \n",
       "14     bh                cosine  9.371461e-01   \n",
       "17     bh             euclidean  2.500542e+00   \n",
       "15     de             euclidean  5.755499e+04   \n",
       "16     da             euclidean  5.907275e+04   \n",
       "6      de         itakura_saito  1.432001e+06   \n",
       "7      da         itakura_saito  1.581409e+06   \n",
       "8      bh         itakura_saito  1.949517e+06   \n",
       "21     de                    kl  1.028224e+00   \n",
       "22     da                    kl  2.558008e+00   \n",
       "23     bh                    kl  6.945273e+00   \n",
       "20     bh             manhattan  1.189020e+01   \n",
       "18     de             manhattan  1.484311e+05   \n",
       "19     da             manhattan  1.486229e+05   \n",
       "3      de                  mfcc  3.163781e+01   \n",
       "4      da                  mfcc  3.803020e+01   \n",
       "5      bh                  mfcc  2.197237e+02   \n",
       "0      de               pearson  6.889713e-02   \n",
       "1      da               pearson  1.389151e-01   \n",
       "2      bh               pearson  9.843692e-01   \n",
       "11     bh  spectral_convergence  1.000000e+00   \n",
       "9      de  spectral_convergence  2.301700e+04   \n",
       "10     da  spectral_convergence  2.317410e+04   \n",
       "\n",
       "                                             wav_path  \\\n",
       "12  rendered_audio\\optimized_output_fm_voice-singl...   \n",
       "13  rendered_audio\\optimized_output_fm_voice-singl...   \n",
       "14  rendered_audio\\optimized_output_fm_voice-singl...   \n",
       "17  rendered_audio\\optimized_output_fm_voice-singl...   \n",
       "15  rendered_audio\\optimized_output_fm_voice-singl...   \n",
       "16  rendered_audio\\optimized_output_fm_voice-singl...   \n",
       "6   rendered_audio\\optimized_output_fm_voice-singl...   \n",
       "7   rendered_audio\\optimized_output_fm_voice-singl...   \n",
       "8   rendered_audio\\optimized_output_fm_voice-singl...   \n",
       "21  rendered_audio\\optimized_output_fm_voice-singl...   \n",
       "22  rendered_audio\\optimized_output_fm_voice-singl...   \n",
       "23  rendered_audio\\optimized_output_fm_voice-singl...   \n",
       "20  rendered_audio\\optimized_output_fm_voice-singl...   \n",
       "18  rendered_audio\\optimized_output_fm_voice-singl...   \n",
       "19  rendered_audio\\optimized_output_fm_voice-singl...   \n",
       "3   rendered_audio\\optimized_output_fm_voice-singl...   \n",
       "4   rendered_audio\\optimized_output_fm_voice-singl...   \n",
       "5   rendered_audio\\optimized_output_fm_voice-singl...   \n",
       "0   rendered_audio\\optimized_output_fm_voice-singl...   \n",
       "1   rendered_audio\\optimized_output_fm_voice-singl...   \n",
       "2   rendered_audio\\optimized_output_fm_voice-singl...   \n",
       "11  rendered_audio\\optimized_output_fm_voice-singl...   \n",
       "9   rendered_audio\\optimized_output_fm_voice-singl...   \n",
       "10  rendered_audio\\optimized_output_fm_voice-singl...   \n",
       "\n",
       "                                             tsv_path  \\\n",
       "12  tsv/final_values_fm_voice-single2_de_cosine_20...   \n",
       "13  tsv/final_values_fm_voice-single2_da_cosine_20...   \n",
       "14  tsv/final_values_fm_voice-single2_bh_cosine_20...   \n",
       "17  tsv/final_values_fm_voice-single2_bh_euclidean...   \n",
       "15  tsv/final_values_fm_voice-single2_de_euclidean...   \n",
       "16  tsv/final_values_fm_voice-single2_da_euclidean...   \n",
       "6   tsv/final_values_fm_voice-single2_de_itakura_s...   \n",
       "7   tsv/final_values_fm_voice-single2_da_itakura_s...   \n",
       "8   tsv/final_values_fm_voice-single2_bh_itakura_s...   \n",
       "21  tsv/final_values_fm_voice-single2_de_kl_202509...   \n",
       "22  tsv/final_values_fm_voice-single2_da_kl_202509...   \n",
       "23  tsv/final_values_fm_voice-single2_bh_kl_202509...   \n",
       "20  tsv/final_values_fm_voice-single2_bh_manhattan...   \n",
       "18  tsv/final_values_fm_voice-single2_de_manhattan...   \n",
       "19  tsv/final_values_fm_voice-single2_da_manhattan...   \n",
       "3   tsv/final_values_fm_voice-single2_de_mfcc_2025...   \n",
       "4   tsv/final_values_fm_voice-single2_da_mfcc_2025...   \n",
       "5   tsv/final_values_fm_voice-single2_bh_mfcc_2025...   \n",
       "0   tsv/final_values_fm_voice-single2_de_pearson_2...   \n",
       "1   tsv/final_values_fm_voice-single2_da_pearson_2...   \n",
       "2   tsv/final_values_fm_voice-single2_bh_pearson_2...   \n",
       "11  tsv/final_values_fm_voice-single2_bh_spectral_...   \n",
       "9   tsv/final_values_fm_voice-single2_de_spectral_...   \n",
       "10  tsv/final_values_fm_voice-single2_da_spectral_...   \n",
       "\n",
       "                                                plots  \n",
       "12  {'time': 'rendered_plots\\optimized_output_fm_v...  \n",
       "13  {'time': 'rendered_plots\\optimized_output_fm_v...  \n",
       "14  {'time': 'rendered_plots\\optimized_output_fm_v...  \n",
       "17  {'time': 'rendered_plots\\optimized_output_fm_v...  \n",
       "15  {'time': 'rendered_plots\\optimized_output_fm_v...  \n",
       "16  {'time': 'rendered_plots\\optimized_output_fm_v...  \n",
       "6   {'time': 'rendered_plots\\optimized_output_fm_v...  \n",
       "7   {'time': 'rendered_plots\\optimized_output_fm_v...  \n",
       "8   {'time': 'rendered_plots\\optimized_output_fm_v...  \n",
       "21  {'time': 'rendered_plots\\optimized_output_fm_v...  \n",
       "22  {'time': 'rendered_plots\\optimized_output_fm_v...  \n",
       "23  {'time': 'rendered_plots\\optimized_output_fm_v...  \n",
       "20  {'time': 'rendered_plots\\optimized_output_fm_v...  \n",
       "18  {'time': 'rendered_plots\\optimized_output_fm_v...  \n",
       "19  {'time': 'rendered_plots\\optimized_output_fm_v...  \n",
       "3   {'time': 'rendered_plots\\optimized_output_fm_v...  \n",
       "4   {'time': 'rendered_plots\\optimized_output_fm_v...  \n",
       "5   {'time': 'rendered_plots\\optimized_output_fm_v...  \n",
       "0   {'time': 'rendered_plots\\optimized_output_fm_v...  \n",
       "1   {'time': 'rendered_plots\\optimized_output_fm_v...  \n",
       "2   {'time': 'rendered_plots\\optimized_output_fm_v...  \n",
       "11  {'time': 'rendered_plots\\optimized_output_fm_v...  \n",
       "9   {'time': 'rendered_plots\\optimized_output_fm_v...  \n",
       "10  {'time': 'rendered_plots\\optimized_output_fm_v...  "
      ]
     },
     "metadata": {},
     "output_type": "display_data"
    }
   ],
   "source": [
    "from py_scripts.optimization_workflow import run_batch_jobs, BatchJob\n",
    "\n",
    "jobs = [\n",
    "    BatchJob(method='de', metric='pearson', kwargs={'maxiter': 500, 'workers': -1}),\n",
    "    BatchJob(method='da', metric='pearson', kwargs={'maxiter': 500}),\n",
    "    BatchJob(method='bh', metric='pearson', kwargs={'maxiter': 500, 'stepsize': 0.4}),\n",
    "    \n",
    "    # Add more combinations as needed, e.g.:\n",
    "    BatchJob(method='de', metric='mfcc', kwargs={'maxiter': 500, 'workers': -1}),\n",
    "    BatchJob(method='da', metric='mfcc', kwargs={'maxiter': 500}),\n",
    "    BatchJob(method='bh', metric='mfcc', kwargs={'maxiter': 500, 'stepsize': 0.4}),\n",
    "\n",
    "    BatchJob(method='de', metric='itakura_saito', kwargs={'maxiter': 500, 'workers': -1}),\n",
    "    BatchJob(method='da', metric='itakura_saito', kwargs={'maxiter': 500}),\n",
    "    BatchJob(method='bh', metric='itakura_saito', kwargs={'maxiter': 500, 'stepsize': 0.4}),\n",
    "\n",
    "    BatchJob(method='de', metric='spectral_convergence', kwargs={'maxiter': 500, 'workers': -1}),\n",
    "    BatchJob(method='da', metric='spectral_convergence', kwargs={'maxiter': 500}),\n",
    "    BatchJob(method='bh', metric='spectral_convergence', kwargs={'maxiter': 500, 'stepsize': 0.4}),\n",
    "\n",
    "    BatchJob(method='de', metric='cosine', kwargs={'maxiter': 500, 'workers': -1}),\n",
    "    BatchJob(method='da', metric='cosine', kwargs={'maxiter': 500}),\n",
    "    BatchJob(method='bh', metric='cosine', kwargs={'maxiter': 500, 'stepsize': 0.4}),\n",
    "\n",
    "    BatchJob(method='de', metric='euclidean', kwargs={'maxiter': 500, 'workers': -1}),\n",
    "    BatchJob(method='da', metric='euclidean', kwargs={'maxiter': 500}),\n",
    "    BatchJob(method='bh', metric='euclidean', kwargs={'maxiter': 500, 'stepsize': 0.4}),   \n",
    "\n",
    "    BatchJob(method='de', metric='manhattan', kwargs={'maxiter': 500, 'workers': -1}),\n",
    "    BatchJob(method='da', metric='manhattan', kwargs={'maxiter': 500}),\n",
    "    BatchJob(method='bh', metric='manhattan', kwargs={'maxiter': 500, 'stepsize': 0.4}),\n",
    "    \n",
    "    BatchJob(method='de', metric='kl', kwargs={'maxiter': 500, 'workers': -1}),\n",
    "    BatchJob(method='da', metric='kl', kwargs={'maxiter': 500}),\n",
    "    BatchJob(method='bh', metric='kl', kwargs={'maxiter': 500, 'stepsize': 0.4})   \n",
    "\n",
    "]\n",
    "\n",
    "rows = run_batch_jobs(\n",
    "    target_freqs, target_amps, jobs,\n",
    "    target_name=target_name,\n",
    "    sr=SR, duration=DURATION, fft_pad=FFT_PAD,\n",
    "    fade_in_ms=FADE_IN_MS, fade_out_ms=FADE_OUT_MS,\n",
    "    seed=42,\n",
    ")\n",
    "\n",
    "# Summarize batch results (params/history omitted for brevity)\n",
    "summary = pd.DataFrame([{k: v for k, v in r.items() if k not in ('params','history') } for r in rows])\n",
    "display(summary.sort_values(['metric', 'best']))\n"
   ]
  },
  {
   "cell_type": "markdown",
   "id": "704e1d86",
   "metadata": {},
   "source": [
    "## Outputs and naming schema\n",
    "Each job saves: \n",
    "- Audio (`.wav`) to `rendered_audio/optimized_output_fm_<target>_<method>_<metric>_<YYYYMMDD-HHMMSS>.wav`\n",
    "- Plots (`.png`) to `rendered_plots/optimized_output_fm_<target>_<method>_<metric>_<YYYYMMDD-HHMMSS>_<type>.png`\n",
    "  - `<type>` ∈ `time`, `spectrum`, `error`\n",
    "- Final oscillator values to `tsv/final_values_fm_<target>_<method>_<metric>_<YYYYMMDD-HHMMSS>.tsv`\n",
    "\n",
    "The naming follows the same `_method_metric_timestamp` pattern used by `save_wav(add_info=True, add_time=True)` for consistency across assets.\n",
    "\n",
    "## Parallel processing note\n",
    "- `workers` (parallel execution) is supported by Differential Evolution (`method='de'`).\n",
    "- Dual Annealing (`'da'`) and Basin Hopping (`'bh'`) do not accept `workers`. Any unsupported kwargs are safely ignored by the batch runner."
   ]
  }
 ],
 "metadata": {
  "kernelspec": {
   "display_name": "py3124t",
   "language": "python",
   "name": "python3"
  },
  "language_info": {
   "codemirror_mode": {
    "name": "ipython",
    "version": 3
   },
   "file_extension": ".py",
   "mimetype": "text/x-python",
   "name": "python",
   "nbconvert_exporter": "python",
   "pygments_lexer": "ipython3",
   "version": "3.12.4"
  }
 },
 "nbformat": 4,
 "nbformat_minor": 5
}
